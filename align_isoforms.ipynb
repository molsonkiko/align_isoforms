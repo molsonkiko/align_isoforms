{
  "nbformat": 4,
  "nbformat_minor": 0,
  "metadata": {
    "colab": {
      "provenance": [],
      "collapsed_sections": []
    },
    "kernelspec": {
      "name": "python3",
      "display_name": "Python 3"
    },
    "language_info": {
      "name": "python"
    }
  },
  "cells": [
    {
      "cell_type": "markdown",
      "source": [
        "<a href=\"https://colab.research.google.com/github/molsonkiko/align_isoforms/blob/main/align_isoforms.ipynb\" target=\"_parent\">\n",
        "    <img src=\"https://colab.research.google.com/assets/colab-badge.svg\" alt=\"Open In Colab\"/>\n",
        "</a>"
      ],
      "metadata": {
        "id": "wNXbzp5bc1du"
      }
    },
    {
      "cell_type": "code",
      "execution_count": 2,
      "metadata": {
        "colab": {
          "base_uri": "https://localhost:8080/"
        },
        "id": "VaDMICcH4Zw5",
        "outputId": "420e0980-67c7-4bea-a3ab-978d741740c3"
      },
      "outputs": [
        {
          "output_type": "stream",
          "name": "stdout",
          "text": [
            "Looking in indexes: https://pypi.org/simple, https://us-python.pkg.dev/colab-wheels/public/simple/\n",
            "Collecting biopython\n",
            "  Downloading biopython-1.79-cp37-cp37m-manylinux_2_17_x86_64.manylinux2014_x86_64.whl (2.6 MB)\n",
            "\u001b[K     |████████████████████████████████| 2.6 MB 22.7 MB/s \n",
            "\u001b[?25hRequirement already satisfied: numpy in /usr/local/lib/python3.7/dist-packages (from biopython) (1.21.6)\n",
            "Installing collected packages: biopython\n",
            "Successfully installed biopython-1.79\n"
          ]
        }
      ],
      "source": [
        "!pip install biopython\n",
        "# lib libraries\n",
        "import time\n",
        "# 3rd-party libraries\n",
        "import Bio\n",
        "from Bio import Align\n",
        "from Bio.Seq import Seq\n",
        "from Bio.SeqRecord import SeqRecord\n",
        "import requests"
      ]
    },
    {
      "cell_type": "markdown",
      "source": [
        "For discussion of isoforms, see https://en.wikipedia.org/wiki/Protein_isoform"
      ],
      "metadata": {
        "id": "skJZfsrynwSa"
      }
    },
    {
      "cell_type": "code",
      "source": [
        "class AlignmentFailedError(Exception):\n",
        "    pass"
      ],
      "metadata": {
        "id": "8dwTdpwTgZ-j"
      },
      "execution_count": 3,
      "outputs": []
    },
    {
      "cell_type": "code",
      "source": [
        "# see https://rest.uniprot.org/docs/#/\n",
        "BASE_QUERY = \"https://rest.uniprot.org/uniprotkb/search?query=accession%3D\"\n",
        "def get_protein(acc_num: str) -> dict:\n",
        "    '''Get the information in UniProt associated with accession number acc_num.\n",
        "    API documentation: https://rest.uniprot.org/docs/#/uniprotkb/searchCursor\n",
        "    '''\n",
        "    resp = requests.get(BASE_QUERY + acc_num)\n",
        "    resp.raise_for_status()\n",
        "    return resp.json()['results']"
      ],
      "metadata": {
        "id": "Add22OzP5kWe"
      },
      "execution_count": 4,
      "outputs": []
    },
    {
      "cell_type": "code",
      "source": [
        "def get_sequence(prot: dict) -> str:\n",
        "    '''prot: JSON from the UniProt API for a protein\n",
        "    Returns: the protein's sequence as a string\n",
        "    '''\n",
        "    return prot[0]['sequence']['value']"
      ],
      "metadata": {
        "id": "Q9IWPBeiFaeZ"
      },
      "execution_count": 5,
      "outputs": []
    },
    {
      "cell_type": "code",
      "source": [
        "def get_isoform_ids(prot: dict) -> list:\n",
        "    '''prot: JSON from the UniProt API for a protein\n",
        "    Returns: a list of the UniProt accession nums for all isoforms\n",
        "    '''\n",
        "    xrefs = prot[0]['uniProtKBCrossReferences']\n",
        "    out = set()\n",
        "    for ref in xrefs:\n",
        "        isof = ref.get('isoformId')\n",
        "        if isof is not None:\n",
        "            out.add(isof)\n",
        "    return sorted(out)"
      ],
      "metadata": {
        "id": "fAzYv8PlLnmD"
      },
      "execution_count": 6,
      "outputs": []
    },
    {
      "cell_type": "code",
      "source": [
        "def get_isoforms(prot: dict) -> dict:\n",
        "    '''prot: JSON from the UniProt API for a protein\n",
        "    Returns: A mapping of UniProt accession nums to the UniProt API JSON\n",
        "    for all isoforms of the protein\n",
        "    '''\n",
        "    iso_ids = get_isoform_ids(prot)\n",
        "    seqs = {}\n",
        "    for id_ in iso_ids:\n",
        "        try:\n",
        "            seqs[id_] = get_protein(id_)\n",
        "        except:\n",
        "            continue\n",
        "    return seqs"
      ],
      "metadata": {
        "id": "d6V_ztvaNGdI"
      },
      "execution_count": 7,
      "outputs": []
    },
    {
      "cell_type": "code",
      "source": [
        "def get_all_prots(acc_num: str) -> dict:\n",
        "    '''acc_num: The UniProt accession number of a protein\n",
        "    Returns: a dict mapping the UniProt accession numbers for all distinct\n",
        "    isoforms of a protein to the UniProt API JSON for that isoform.\n",
        "    '''\n",
        "    prot = get_protein(acc_num)\n",
        "    prots = {acc_num: prot}\n",
        "    seq = get_sequence(prot)\n",
        "    isos = get_isoforms(prot)\n",
        "    # remove the isoforms with the same sequence as the base acc num\n",
        "    for iso_acc_num, iso in list(isos.items()):\n",
        "        iso_seq = get_sequence(iso)\n",
        "        if iso_acc_num != acc_num and iso_seq == seq:\n",
        "            del isos[iso_acc_num]\n",
        "    return {**prots, **isos}"
      ],
      "metadata": {
        "id": "ZLncRRYeTnkp"
      },
      "execution_count": 8,
      "outputs": []
    },
    {
      "cell_type": "code",
      "source": [
        "claudin = 'P56856'\n",
        "all_prots = get_all_prots(claudin)"
      ],
      "metadata": {
        "id": "OE_BXPEONtaw"
      },
      "execution_count": 9,
      "outputs": []
    },
    {
      "cell_type": "code",
      "source": [
        "def get_all_seqs(prots: dict) -> dict:\n",
        "    '''prots: a dict mapping accession numbers to UniProt API JSON\n",
        "    (returned by get_all_prots).\n",
        "    Returns: a dict mapping those accession numbers to the sequences\n",
        "    '''\n",
        "    return {k: get_sequence(v) for k, v in prots.items()}"
      ],
      "metadata": {
        "id": "IzBJOj0rUwzq"
      },
      "execution_count": 10,
      "outputs": []
    },
    {
      "cell_type": "code",
      "source": [
        "seqs = get_all_seqs(all_prots)\n",
        "seq1, seq2 = seqs.values()"
      ],
      "metadata": {
        "id": "l53uDIKEVpYh"
      },
      "execution_count": 11,
      "outputs": []
    },
    {
      "cell_type": "code",
      "source": [
        "def get_aligner(**kwargs) -> Bio.Align.PairwiseAligner:\n",
        "    '''Returns a pre-configured PairwiseAligner, which can be used to do\n",
        "    pairwise alignments to two isoforms.\n",
        "    You can pass in keyword arguments (e.g., get_aligner(mismatch_score = -5))\n",
        "    to customize the aligner.\n",
        "    '''\n",
        "    aligner = Align.PairwiseAligner()\n",
        "    aligner.mode = 'local'\n",
        "    aligner.mismatch_score = kwargs.get('mismatch_score', -10)\n",
        "    aligner.target_internal_open_gap_score = kwargs.get('target_internal_open_gap_score', -20.)\n",
        "    aligner.target_internal_extend_gap_score = kwargs.get('target_internal_extend_gap_score', -5.)\n",
        "    aligner.target_left_open_gap_score = kwargs.get('target_left_open_gap_score', -10.)\n",
        "    aligner.target_left_extend_gap_score = kwargs.get('target_left_extend_gap_score', -0.5)\n",
        "    aligner.target_right_open_gap_score = kwargs.get('target_right_open_gap_score', -10.)\n",
        "    aligner.target_right_extend_gap_score = kwargs.get('target_right_extend_gap_score', -0.5)\n",
        "    aligner.query_internal_open_gap_score = kwargs.get('query_internal_open_gap_score', -10.)\n",
        "    aligner.query_internal_extend_gap_score = kwargs.get('query_internal_extend_gap_score', -0.5)\n",
        "    aligner.query_left_open_gap_score = kwargs.get('query_left_open_gap_score', -10.)\n",
        "    aligner.query_left_extend_gap_score = kwargs.get('query_left_extend_gap_score', -0.5)\n",
        "    aligner.query_right_open_gap_score = kwargs.get('query_right_open_gap_score', -10.)\n",
        "    aligner.query_right_extend_gap_score = kwargs.get('query_right_extend_gap_score', -0.5)\n",
        "    return aligner"
      ],
      "metadata": {
        "id": "tAlSCuhIYV5P"
      },
      "execution_count": 12,
      "outputs": []
    },
    {
      "cell_type": "code",
      "source": [
        "aligner = get_aligner(mismatch_score = -5, query_right_extend_gap_score = -0.6)\n",
        "alignments = aligner.align(seq1, seq2)\n",
        "print(alignments[0])"
      ],
      "metadata": {
        "colab": {
          "base_uri": "https://localhost:8080/"
        },
        "id": "zduQLFRGY_kC",
        "outputId": "ef1abdb4-6503-4886-d8e1-e35e1f10d9d8"
      },
      "execution_count": 13,
      "outputs": [
        {
          "output_type": "stream",
          "name": "stdout",
          "text": [
            "MSTTTCQVVAFLLSILGLAGCIAATGMDMWSTQDLYDNPVTSVFQYEGLWRSCVRQSSGFTECRPYFTILGLPAMLQAVRALMIVGIVLGAIGLLVSIFALKCIRIGSMEDSAKANMTLTSGIMFIVSGLCAIAGVSVFANMLVTNFWMSTANMYTGMGGMVQTVQTRYTFGAALFVGWVAGGLTLIGGVMMCIACRGLAPEETNYKAVSYHASGHSVAYKPGGFKASTGFGSNTKNKKIYDGGARTEDEVQSYPSKHDYV\n",
            "                                               ||||||||.||||||||.|||.||||||||||||||||||||||||||||||||||||||||||||||||||||||||||||||||||||||||||||||||||||||||||||||||||||||||||||||||||||||||||||||||||||||||||||||||||||||||||||||||||||||||||||||||||||||||||||||||\n",
            "MAVTACQGLGFVVSLIGIAGIIAATCMDQWSTQDLYNNPVTAVFNYQGLWRSCVRESSGFTECRGYFTLLGLPAMLQAVRALMIVGIVLGAIGLLVSIFALKCIRIGSMEDSAKANMTLTSGIMFIVSGLCAIAGVSVFANMLVTNFWMSTANMYTGMGGMVQTVQTRYTFGAALFVGWVAGGLTLIGGVMMCIACRGLAPEETNYKAVSYHASGHSVAYKPGGFKASTGFGSNTKNKKIYDGGARTEDEVQSYPSKHDYV\n",
            "\n"
          ]
        }
      ]
    },
    {
      "cell_type": "code",
      "source": [
        "def to_fasta(seqs: dict) -> str:\n",
        "    '''seqs: an {accession number -> UniProt API JSON} dict returned by\n",
        "    get_all_prots.\n",
        "    Returns: The accession numbers and sequences of those proteins in FASTA\n",
        "    format.\n",
        "    '''\n",
        "    fasta = ''\n",
        "    for acc_num, seq in seqs.items():\n",
        "        seqrec = SeqRecord(Seq(seq))\n",
        "        seqrec.id = acc_num\n",
        "        fasta += seqrec.format('fasta')\n",
        "    return fasta"
      ],
      "metadata": {
        "id": "TgIMzIE0chsG"
      },
      "execution_count": 14,
      "outputs": []
    },
    {
      "cell_type": "code",
      "source": [
        "# https://rest.uniprot.org/beta/docs/\n",
        "WEBSITE_API = \"https://rest.uniprot.org/beta\"\n",
        "def request_multi_alignment(seqs: dict) -> str:\n",
        "    '''Send a request to the European Bioinformatics Institute\n",
        "    for multiple alignment of several sequences\n",
        "    '''\n",
        "    fasta = to_fasta(seqs)\n",
        "    r = requests.post(\n",
        "        \"https://www.ebi.ac.uk/Tools/services/rest/clustalo/run\", \n",
        "        data={\n",
        "            \"email\": \"lestimpe@gmail.com\",\n",
        "            \"iterations\": 1,\n",
        "            \"outfmt\": \"clustal_num\",\n",
        "            \"order\": \"aligned\",\n",
        "            \"sequence\": fasta\n",
        "           }\n",
        "    )\n",
        "    r.raise_for_status()\n",
        "    job_id = r.text\n",
        "    job_status = 'RUNNING'\n",
        "    # ping the server every few seconds to see if the job is done\n",
        "    while job_status == 'RUNNING':\n",
        "        time.sleep(4)\n",
        "        job_status_req = requests.get(\n",
        "            f\"https://www.ebi.ac.uk/Tools/services/rest/clustalo/status/{job_id}\")\n",
        "        job_status_req.raise_for_status()\n",
        "        job_status = job_status_req.text\n",
        "    # now that the job is done, get the alignment\n",
        "    resp = requests.get(\n",
        "        f\"https://www.ebi.ac.uk/Tools/services/rest/clustalo/result/{job_id}/aln-clustal_num\")\n",
        "    resp.raise_for_status()\n",
        "    return resp.text"
      ],
      "metadata": {
        "id": "0bYht6YYd7NR"
      },
      "execution_count": 15,
      "outputs": []
    },
    {
      "cell_type": "code",
      "source": [
        "def align_isoforms(acc_num: str, **kwargs) -> str:\n",
        "    '''get all isoforms of the protein with accession number acc_num,\n",
        "    and return a sequence alignment.\n",
        "    Can also pass in keyword arguments to set parameters for the alignment,\n",
        "    if there are only two isoforms to align'''\n",
        "    prots = get_all_prots(acc_num)\n",
        "    seqs = get_all_seqs(prots)\n",
        "    if len(seqs) < 2:\n",
        "        print(f\"The protein with UniProt accession number {acc_num} has only one isoform\")\n",
        "        (acc1, seq1) = list(seqs.items())[0]\n",
        "        return seq1\n",
        "    if len(seqs) == 2:\n",
        "        # BioPython can do a simple alignment for us\n",
        "        aligner = get_aligner(**kwargs)\n",
        "        (acc1, seq1), (acc2, seq2) = seqs.items()\n",
        "        alignments = aligner.align(seq1, seq2)\n",
        "        line1, line2, line3 = str(alignments[0]).splitlines()\n",
        "        return f'{acc1:<12}{line1}\\n{\" \"*12}{line2}\\n{acc2:<12}{line3}'\n",
        "    # for more than three isoforms, we need to ask EBI for help\n",
        "    return request_multi_alignment(seqs)"
      ],
      "metadata": {
        "id": "mC26XJ0Tf81c"
      },
      "execution_count": 16,
      "outputs": []
    },
    {
      "cell_type": "code",
      "source": [
        "# test aligning something with two isoforms\n",
        "alignment = align_isoforms(claudin)\n",
        "print(alignment)"
      ],
      "metadata": {
        "id": "f164z1iJjYgs",
        "outputId": "293fe33d-a8cb-4605-83f0-ede6bd9355ec",
        "colab": {
          "base_uri": "https://localhost:8080/"
        }
      },
      "execution_count": 17,
      "outputs": [
        {
          "output_type": "stream",
          "name": "stdout",
          "text": [
            "P56856      MSTTTCQVVAFLLSILGLAGCIAATGMDMWSTQDLYDNPVTSVFQYEGLWRSCVRQSSGFTECRPYFTILGLPAMLQAVRALMIVGIVLGAIGLLVSIFALKCIRIGSMEDSAKANMTLTSGIMFIVSGLCAIAGVSVFANMLVTNFWMSTANMYTGMGGMVQTVQTRYTFGAALFVGWVAGGLTLIGGVMMCIACRGLAPEETNYKAVSYHASGHSVAYKPGGFKASTGFGSNTKNKKIYDGGARTEDEVQSYPSKHDYV\n",
            "                                                                                 ||||||||||||||||||||||||||||||||||||||||||||||||||||||||||||||||||||||||||||||||||||||||||||||||||||||||||||||||||||||||||||||||||||||||||||||||||||||||||||||||||||||||||||||||||||||||||||||||\n",
            "P56856-2    MAVTACQGLGFVVSLIGIAGIIAATCMDQWSTQDLYNNPVTAVFNYQGLWRSCVRESSGFTECRGYFTLLGLPAMLQAVRALMIVGIVLGAIGLLVSIFALKCIRIGSMEDSAKANMTLTSGIMFIVSGLCAIAGVSVFANMLVTNFWMSTANMYTGMGGMVQTVQTRYTFGAALFVGWVAGGLTLIGGVMMCIACRGLAPEETNYKAVSYHASGHSVAYKPGGFKASTGFGSNTKNKKIYDGGARTEDEVQSYPSKHDYV\n"
          ]
        }
      ]
    },
    {
      "cell_type": "code",
      "source": [
        "# test aligning things with >= 3 isoforms\n",
        "ampk_gamma = 'P54619' # https://en.wikipedia.org/wiki/PRKAG1\n",
        "align_ampk = align_isoforms(ampk_gamma)\n",
        "print(align_ampk)"
      ],
      "metadata": {
        "colab": {
          "base_uri": "https://localhost:8080/"
        },
        "id": "dGRO0z9KlSTZ",
        "outputId": "adc49b92-cad0-4240-c178-a66dbf950387"
      },
      "execution_count": 18,
      "outputs": [
        {
          "output_type": "stream",
          "name": "stdout",
          "text": [
            "CLUSTAL O(1.2.4) multiple sequence alignment\n",
            "\n",
            "\n",
            "P54619        METVISSDSSPAVENEHPQETPESNNSVYTSFMKSHRCYDLIPTSSKLVVFDTSLQVKKA\t60\n",
            "P54619-2      --------------------------------MKSHRCYDLIPTSSKLVVFDTSLQVKKA\t28\n",
            "P54619-3      METVISSDSSPAVENEHPQETPESNNSVYTSFMKSHRCYDLIPTSSKLVVFDTSLQVKKA\t60\n",
            "                                              ****************************\n",
            "\n",
            "P54619        FFALVTNGVRAAPLWDSKKQSFV---------GMLTITDFINILHRYYKSALVQIYELEE\t111\n",
            "P54619-2      FFALVTNGVRAAPLWDSKKQSFV---------GMLTITDFINILHRYYKSALVQIYELEE\t79\n",
            "P54619-3      FFALVTNGVRAAPLWDSKKQSFVVLRALSCPLGMLTITDFINILHRYYKSALVQIYELEE\t120\n",
            "              ***********************         ****************************\n",
            "\n",
            "P54619        HKIETWREVYLQDSFKPLVCISPNASLFDAVSSLIRNKIHRLPVIDPESGNTLYILTHKR\t171\n",
            "P54619-2      HKIETWREVYLQDSFKPLVCISPNASLFDAVSSLIRNKIHRLPVIDPESGNTLYILTHKR\t139\n",
            "P54619-3      HKIETWREVYLQDSFKPLVCISPNASLFDAVSSLIRNKIHRLPVIDPESGNTLYILTHKR\t180\n",
            "              ************************************************************\n",
            "\n",
            "P54619        ILKFLKLFITEFPKPEFMSKSLEELQIGTYANIAMVRTTTPVYVALGIFVQHRVSALPVV\t231\n",
            "P54619-2      ILKFLKLFITEFPKPEFMSKSLEELQIGTYANIAMVRTTTPVYVALGIFVQHRVSALPVV\t199\n",
            "P54619-3      ILKFLKLFITEFPKPEFMSKSLEELQIGTYANIAMVRTTTPVYVALGIFVQHRVSALPVV\t240\n",
            "              ************************************************************\n",
            "\n",
            "P54619        DEKGRVVDIYSKFDVINLAAEKTYNNLDVSVTKALQHRSHYFEGVLKCYLHETLETIINR\t291\n",
            "P54619-2      DEKGRVVDIYSKFDVINLAAEKTYNNLDVSVTKALQHRSHYFEGVLKCYLHETLETIINR\t259\n",
            "P54619-3      DEKGRVVDIYSKFDVINLAAEKTYNNLDVSVTKALQHRSHYFEGVLKCYLHETLETIINR\t300\n",
            "              ************************************************************\n",
            "\n",
            "P54619        LVEAEVHRLVVVDENDVVKGIVSLSDILQALVLTGGEKKP\t331\n",
            "P54619-2      LVEAEVHRLVVVDENDVVKGIVSLSDILQALVLTGGEKKP\t299\n",
            "P54619-3      LVEAEVHRLVVVDENDVVKGIVSLSDILQALVLTGGEKKP\t340\n",
            "              ****************************************\n",
            "\n"
          ]
        }
      ]
    },
    {
      "cell_type": "code",
      "source": [
        "# test aligning things with only one isoform\n",
        "ckb = 'P12277' # https://en.wikipedia.org/wiki/CKB_(gene)\n",
        "align_ckb = align_isoforms(ckb)\n",
        "print(align_ckb)"
      ],
      "metadata": {
        "colab": {
          "base_uri": "https://localhost:8080/"
        },
        "id": "3kfd8bh0mubz",
        "outputId": "2c322f96-45ec-4b48-eec2-aa55f96687f8"
      },
      "execution_count": 19,
      "outputs": [
        {
          "output_type": "stream",
          "name": "stdout",
          "text": [
            "The protein with UniProt accession number P12277 has only one isoform\n",
            "MPFSNSHNALKLRFPAEDEFPDLSAHNNHMAKVLTPELYAELRAKSTPSGFTLDDVIQTGVDNPGHPYIMTVGCVAGDEESYEVFKDLFDPIIEDRHGGYKPSDEHKTDLNPDNLQGGDDLDPNYVLSSRVRTGRSIRGFCLPPHCSRGERRAIEKLAVEALSSLDGDLAGRYYALKSMTEAEQQQLIDDHFLFDKPVSPLLLASGMARDWPDARGIWHNDNKTFLVWVNEEDHLRVISMQKGGNMKEVFTRFCTGLTQIETLFKSKDYEFMWNPHLGYILTCPSNLGTGLRAGVHIKLPNLGKHEKFSEVLKRLRLQKRGTGGVDTAAVGGVFDVSNADRLGFSEVELVQMVVDGVKLLIEMEQRLEQGQAIDDLMPAQK\n"
          ]
        }
      ]
    },
    {
      "cell_type": "code",
      "source": [
        "has1 = 'Q92839' # https://en.wikipedia.org/wiki/HAS1\n",
        "align_has1 = align_isoforms(has1)"
      ],
      "metadata": {
        "colab": {
          "base_uri": "https://localhost:8080/"
        },
        "id": "ueyFv5KZoyLo",
        "outputId": "0ef47772-5a1e-4681-969c-f89d8879b906"
      },
      "execution_count": 20,
      "outputs": [
        {
          "output_type": "stream",
          "name": "stdout",
          "text": [
            "The protein with UniProt accession number Q92839 has only one isoform\n"
          ]
        }
      ]
    },
    {
      "cell_type": "code",
      "source": [
        "frmd3 = 'A2A2Y4' # example with 5 isoforms\n",
        "align_frmd3 = align_isoforms(frmd3)\n",
        "print(align_frmd3)"
      ],
      "metadata": {
        "id": "NRLATT3OdsoX",
        "outputId": "dc5b2658-a3e7-4011-efbe-827290078da5",
        "colab": {
          "base_uri": "https://localhost:8080/"
        }
      },
      "execution_count": 21,
      "outputs": [
        {
          "output_type": "stream",
          "name": "stdout",
          "text": [
            "CLUSTAL O(1.2.4) multiple sequence alignment\n",
            "\n",
            "\n",
            "A2A2Y4-4      ------------------------------------------------------------\t0\n",
            "A2A2Y4-3      ------------------------------------------------------------\t0\n",
            "A2A2Y4-5      --------------------------------------------MQLSKRETKGQFLIDH\t16\n",
            "A2A2Y4        MFASCHCVPRGRRTMKMIHFRSSSVKSLSQEMRCTIRLLDDSEISCHIQRETKGQFLIDH\t60\n",
            "A2A2Y4-2      MFASCHCVPRGRRTMKMIHFRSSSVKSLSQEMRCTIRLLDDSEISCHIQRETKGQFLIDH\t60\n",
            "                                                                          \n",
            "\n",
            "A2A2Y4-4      ------------------------------------------------------------\t0\n",
            "A2A2Y4-3      ------------------------------------------------------------\t0\n",
            "A2A2Y4-5      ICNYYSLLEKDYFGIRYVDPEKQRHWLEPNKSIFKQMKTHPPYTMCFRVKFYPHEPLKIK\t76\n",
            "A2A2Y4        ICNYYSLLEKDYFGIRYVDPEKQRHWLEPNKSIFKQMKTHPPYTMCFRVKFYPHEPLKIK\t120\n",
            "A2A2Y4-2      ICNYYSLLEKDYFGIRYVDPEKQRHWLEPNKSIFKQMKTHPPYTMCFRVKFYPHEPLKIK\t120\n",
            "                                                                          \n",
            "\n",
            "A2A2Y4-4      ------------------------------------------------------------\t0\n",
            "A2A2Y4-3      ------------------------------------------------------------\t0\n",
            "A2A2Y4-5      EELTRYLLYLQIKRDIFHGRLLCSFSDAAYLGACIVQAELGDYDPDEHPENYISEFEIFP\t136\n",
            "A2A2Y4        EELTRYLLYLQIKRDIFHGRLLCSFSDAAYLGACIVQAELGDYDPDEHPENYISEFEIFP\t180\n",
            "A2A2Y4-2      EELTRYLLYLQIKRDIFHGRLLCSFSDAAYLGACIVQAELGDYDPDEHPENYISEFEIFP\t180\n",
            "                                                                          \n",
            "\n",
            "A2A2Y4-4      ------------------------------------------------------------\t0\n",
            "A2A2Y4-3      --------------MVFRRGQSPPVAEFNLLLKAHTLETYGVDPHPCKDSTGTTTFLGFT\t46\n",
            "A2A2Y4-5      KQSQKLERKIVEIHKNELRGQSPPVAEFNLLLKAHTLETYGVDPHPCKDSTGTTTFLGFT\t196\n",
            "A2A2Y4        KQSQKLERKIVEIHKNELRGQSPPVAEFNLLLKAHTLETYGVDPHPCKDSTGTTTFLGFT\t240\n",
            "A2A2Y4-2      KQSQKLERKIVEIHKNELRGQSPPVAEFNLLLKAHTLETYGVDPHPCKDSTGTTTFLGFT\t240\n",
            "                                                                          \n",
            "\n",
            "A2A2Y4-4      ------------------------------------------------------------\t0\n",
            "A2A2Y4-3      AAGFVVFQGNKRIHLIKWPDVCKLKFEGKTFYVIGTQKEKKAMLAFHTSTPAACKHLWKC\t106\n",
            "A2A2Y4-5      AAGFVVFQGNKRIHLIKWPDVCKLKFEGKTFYVIGTQKEKKAMLAFHTSTPAACKHLWKC\t256\n",
            "A2A2Y4        AAGFVVFQGNKRIHLIKWPDVCKLKFEGKTFYVIGTQKEKKAMLAFHTSTPAACKHLWKC\t300\n",
            "A2A2Y4-2      AAGFVVFQGNKRIHLIKWPDVCKLKFEGKTFYVIGTQKEKKAMLAFHTSTPAACKHLWKC\t300\n",
            "                                                                          \n",
            "\n",
            "A2A2Y4-4      -------------------------MQAEETKGIGI--TSMAKCLVKIQTRRSLQLHM--\t31\n",
            "A2A2Y4-3      GVENQAFYKYAKSSQIKTVSSSKIFFKGSRFRYSGKVAKEVVEASSKIQRE-PPEVHRAN\t165\n",
            "A2A2Y4-5      GVENQAFYKYAKSSQIKTVSSSKIFFKGSRFRYSGKVAKEVVEASSKIQRE-PPEVHRAN\t315\n",
            "A2A2Y4        GVENQAFYKYAKSSQIKTVSSSKIFFKGSRFRYSGKVAKEVVEASSKIQRE-PPEVHRAN\t359\n",
            "A2A2Y4-2      GVENQAFYKYAKSSQIKTVSSSKIFFKGSRFRYSGKVAKEVVEASSKIQRE-PPEVHRAN\t359\n",
            "                                       ::... :  *   ..:.:.  *** .   ::*   \n",
            "\n",
            "A2A2Y4-4      ------VNHCNSNVFVRLLR---------LGSKVTARNTGVPLPKEENISAPLISSSPVK\t76\n",
            "A2A2Y4-3      ITQSRSSHSLNKQLIINMEPLQPLLPSPSEQEEELPLGEGVPLPKEENISAPLISSSPVK\t225\n",
            "A2A2Y4-5      ITQSRSSHSLNKQLIINMEPLQPLLPSPSEQEEELPLGEGVPLPKEENISAPLISSSPVK\t375\n",
            "A2A2Y4        ITQSRSSHSLNKQLIINMEPLQPLLPSPSEQEEELPLGEGVPLPKEENISAPLISSSPVK\t419\n",
            "A2A2Y4-2      ITQSRSSHSLNKQLIINMEPLQPLLPSPSEQEEELPLGEGVPLPKEENISAPLISSSPVK\t419\n",
            "                     :  *.::::.:             .:    . *********************\n",
            "\n",
            "A2A2Y4-4      AAREYEDPPSEEEDKIKEEPLTISELVYNPSASLLPTPVDDDEIDMLFDCPSRLELERED\t136\n",
            "A2A2Y4-3      AAREYEDPPSEEEDKIKEEPLTISELVYNPSASLLPTPVDDDEIDMLFDCPSRLELERED\t285\n",
            "A2A2Y4-5      AAREYEDPPSEEEDKIKEEPLTISELVYNPSASLLPTPVDDDEIDMLFDCPSRLELERED\t435\n",
            "A2A2Y4        AAREYEDPPSEEEDKIKEEPLTISELVYNPSASLLPTPVDDDEIDMLFDCPSRLELERED\t479\n",
            "A2A2Y4-2      AAREYEDPPSEEEDKIKEEPLTISELVYNPSASLLPTPVDDDEIDMLFDCPSRLELERED\t479\n",
            "              ************************************************************\n",
            "\n",
            "A2A2Y4-4      TDSFEDLEADENAFLIAEEEELKEARRALSWSYDILTGHIRVNPLVKSFSRLLVVGLGLL\t196\n",
            "A2A2Y4-3      TDSFEDLEADENAFLIAEEEELKEARRALSWSYDILTGHIRVNPLVKSFSRLLVVGLGLL\t345\n",
            "A2A2Y4-5      TDSFEDLEADENAFLIAEEEELKEARRALSWSYDILTGHIRVNPLVKSFSRLLVVGLGLL\t495\n",
            "A2A2Y4        TDSFEDLEADENAFLIAEEEELKEARRALSWSYDILTGHIRVNPLVKSFSRLLVVGLGLL\t539\n",
            "A2A2Y4-2      TDSFEDLEADENAFLIAEEEELKEARRALSWSYDILTGHIRVNPLVKSFSRLLVVGLGLL\t539\n",
            "              ************************************************************\n",
            "\n",
            "A2A2Y4-4      LFVFPLLLLLLESVSMQ-----------------------------------------\t213\n",
            "A2A2Y4-3      LFVFPLLLLLLESVSMQ-----------------------------------------\t362\n",
            "A2A2Y4-5      LFVFPLLLLLLESGIDLSFLCEIRQTPEFEQFHYEYYCPLKEWVAGKVHLILYMLGCS\t553\n",
            "A2A2Y4        LFVFPLLLLLLESGIDLSFLCEIRQTPEFEQFHYEYYCPLKEWVAGKVHLILYMLGCS\t597\n",
            "A2A2Y4-2      LFVFPLLLLLLESVSMQ-----------------------------------------\t556\n",
            "              *************                                             \n",
            "\n"
          ]
        }
      ]
    }
  ]
}