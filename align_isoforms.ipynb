{
  "nbformat": 4,
  "nbformat_minor": 0,
  "metadata": {
    "colab": {
      "provenance": [],
      "collapsed_sections": []
    },
    "kernelspec": {
      "name": "python3",
      "display_name": "Python 3"
    },
    "language_info": {
      "name": "python"
    }
  },
  "cells": [
    {
      "cell_type": "code",
      "execution_count": 1,
      "metadata": {
        "colab": {
          "base_uri": "https://localhost:8080/"
        },
        "id": "VaDMICcH4Zw5",
        "outputId": "9d0e96f9-9608-4172-cd7d-c1d0c8011395"
      },
      "outputs": [
        {
          "output_type": "stream",
          "name": "stdout",
          "text": [
            "Looking in indexes: https://pypi.org/simple, https://us-python.pkg.dev/colab-wheels/public/simple/\n",
            "Collecting biopython\n",
            "  Downloading biopython-1.79-cp37-cp37m-manylinux_2_17_x86_64.manylinux2014_x86_64.whl (2.6 MB)\n",
            "\u001b[K     |████████████████████████████████| 2.6 MB 8.5 MB/s \n",
            "\u001b[?25hRequirement already satisfied: numpy in /usr/local/lib/python3.7/dist-packages (from biopython) (1.21.6)\n",
            "Installing collected packages: biopython\n",
            "Successfully installed biopython-1.79\n"
          ]
        }
      ],
      "source": [
        "!pip install biopython\n",
        "# lib libraries\n",
        "import time\n",
        "# 3rd-party libraries\n",
        "import Bio\n",
        "from Bio import Align\n",
        "from Bio.Seq import Seq\n",
        "from Bio.SeqRecord import SeqRecord\n",
        "import requests"
      ]
    },
    {
      "cell_type": "markdown",
      "source": [
        "For discussion of isoforms, see https://en.wikipedia.org/wiki/Protein_isoform"
      ],
      "metadata": {
        "id": "skJZfsrynwSa"
      }
    },
    {
      "cell_type": "code",
      "source": [
        "class AlignmentFailedError(Exception):\n",
        "    pass"
      ],
      "metadata": {
        "id": "8dwTdpwTgZ-j"
      },
      "execution_count": 2,
      "outputs": []
    },
    {
      "cell_type": "code",
      "source": [
        "# see https://rest.uniprot.org/docs/#/\n",
        "BASE_QUERY = \"https://rest.uniprot.org/uniprotkb/search?query=accession%3D\"\n",
        "def get_protein(acc_num: str) -> dict:\n",
        "    '''Get the information in UniProt associated with accession number\n",
        "    acc_num'''\n",
        "    resp = requests.get(BASE_QUERY + acc_num)\n",
        "    resp.raise_for_status()\n",
        "    return resp.json()['results']"
      ],
      "metadata": {
        "id": "Add22OzP5kWe"
      },
      "execution_count": 3,
      "outputs": []
    },
    {
      "cell_type": "code",
      "source": [
        "def get_sequence(prot: dict) -> str:\n",
        "    return prot[0]['sequence']['value']"
      ],
      "metadata": {
        "id": "Q9IWPBeiFaeZ"
      },
      "execution_count": 4,
      "outputs": []
    },
    {
      "cell_type": "code",
      "source": [
        "def get_isoform_ids(prot: dict) -> list:\n",
        "    xrefs = prot[0]['uniProtKBCrossReferences']\n",
        "    out = set()\n",
        "    for ref in xrefs:\n",
        "        isof = ref.get('isoformId')\n",
        "        if isof is not None:\n",
        "            out.add(isof)\n",
        "    return sorted(out)"
      ],
      "metadata": {
        "id": "fAzYv8PlLnmD"
      },
      "execution_count": 5,
      "outputs": []
    },
    {
      "cell_type": "code",
      "source": [
        "def get_isoforms(prot: dict) -> dict:\n",
        "    iso_ids = get_isoform_ids(prot)\n",
        "    seqs = {}\n",
        "    for id_ in iso_ids:\n",
        "        try:\n",
        "            seqs[id_] = get_protein(id_)\n",
        "        except:\n",
        "            continue\n",
        "    return seqs"
      ],
      "metadata": {
        "id": "d6V_ztvaNGdI"
      },
      "execution_count": 6,
      "outputs": []
    },
    {
      "cell_type": "code",
      "source": [
        "def get_all_prots(acc_num: str) -> dict:\n",
        "    prot = get_protein(acc_num)\n",
        "    prots = {acc_num: prot}\n",
        "    seq = get_sequence(prot)\n",
        "    isos = get_isoforms(prot)\n",
        "    # remove the isoforms with the same sequence as the base acc num\n",
        "    for iso_acc_num, iso in list(isos.items()):\n",
        "        iso_seq = get_sequence(iso)\n",
        "        if iso_acc_num != acc_num and iso_seq == seq:\n",
        "            del isos[iso_acc_num]\n",
        "    return {**prots, **isos}"
      ],
      "metadata": {
        "id": "ZLncRRYeTnkp"
      },
      "execution_count": 7,
      "outputs": []
    },
    {
      "cell_type": "code",
      "source": [
        "claudin = 'P56856'\n",
        "all_prots = get_all_prots(claudin)"
      ],
      "metadata": {
        "id": "OE_BXPEONtaw"
      },
      "execution_count": 8,
      "outputs": []
    },
    {
      "cell_type": "code",
      "source": [
        "def get_all_seqs(prots: dict) -> dict:\n",
        "    return {k: get_sequence(v) for k, v in prots.items()}"
      ],
      "metadata": {
        "id": "IzBJOj0rUwzq"
      },
      "execution_count": 9,
      "outputs": []
    },
    {
      "cell_type": "code",
      "source": [
        "seqs = get_all_seqs(all_prots)\n",
        "seq1, seq2 = seqs.values()"
      ],
      "metadata": {
        "id": "l53uDIKEVpYh"
      },
      "execution_count": 10,
      "outputs": []
    },
    {
      "cell_type": "code",
      "source": [
        "def get_aligner(**kwargs) -> Bio.Align.PairwiseAligner:\n",
        "    aligner = Align.PairwiseAligner()\n",
        "    aligner.mode = 'local'\n",
        "    aligner.mismatch_score = kwargs.get('mismatch_score', -10)\n",
        "    aligner.target_internal_open_gap_score = kwargs.get('target_internal_open_gap_score', -20.)\n",
        "    aligner.target_internal_extend_gap_score = kwargs.get('target_internal_extend_gap_score', -5.)\n",
        "    aligner.target_left_open_gap_score = kwargs.get('target_left_open_gap_score', -10.)\n",
        "    aligner.target_left_extend_gap_score = kwargs.get('target_left_extend_gap_score', -0.5)\n",
        "    aligner.target_right_open_gap_score = kwargs.get('target_right_open_gap_score', -10.)\n",
        "    aligner.target_right_extend_gap_score = kwargs.get('target_right_extend_gap_score', -0.5)\n",
        "    aligner.query_internal_open_gap_score = kwargs.get('query_internal_open_gap_score', -10.)\n",
        "    aligner.query_internal_extend_gap_score = kwargs.get('query_internal_extend_gap_score', -0.5)\n",
        "    aligner.query_left_open_gap_score = kwargs.get('query_left_open_gap_score', -10.)\n",
        "    aligner.query_left_extend_gap_score = kwargs.get('query_left_extend_gap_score', -0.5)\n",
        "    aligner.query_right_open_gap_score = kwargs.get('query_right_open_gap_score', -10.)\n",
        "    aligner.query_right_extend_gap_score = kwargs.get('query_right_extend_gap_score', -0.5)\n",
        "    return aligner"
      ],
      "metadata": {
        "id": "tAlSCuhIYV5P"
      },
      "execution_count": 11,
      "outputs": []
    },
    {
      "cell_type": "code",
      "source": [
        "aligner = get_aligner()\n",
        "alignments = aligner.align(seq1, seq2)\n",
        "print(alignments[0])"
      ],
      "metadata": {
        "colab": {
          "base_uri": "https://localhost:8080/"
        },
        "id": "zduQLFRGY_kC",
        "outputId": "5644f2a2-73c2-4ef9-eff8-55588b063ad9"
      },
      "execution_count": 12,
      "outputs": [
        {
          "output_type": "stream",
          "name": "stdout",
          "text": [
            "MSTTTCQVVAFLLSILGLAGCIAATGMDMWSTQDLYDNPVTSVFQYEGLWRSCVRQSSGFTECRPYFTILGLPAMLQAVRALMIVGIVLGAIGLLVSIFALKCIRIGSMEDSAKANMTLTSGIMFIVSGLCAIAGVSVFANMLVTNFWMSTANMYTGMGGMVQTVQTRYTFGAALFVGWVAGGLTLIGGVMMCIACRGLAPEETNYKAVSYHASGHSVAYKPGGFKASTGFGSNTKNKKIYDGGARTEDEVQSYPSKHDYV\n",
            "                                                                     ||||||||||||||||||||||||||||||||||||||||||||||||||||||||||||||||||||||||||||||||||||||||||||||||||||||||||||||||||||||||||||||||||||||||||||||||||||||||||||||||||||||||||||||||||||||||||||||||\n",
            "MAVTACQGLGFVVSLIGIAGIIAATCMDQWSTQDLYNNPVTAVFNYQGLWRSCVRESSGFTECRGYFTLLGLPAMLQAVRALMIVGIVLGAIGLLVSIFALKCIRIGSMEDSAKANMTLTSGIMFIVSGLCAIAGVSVFANMLVTNFWMSTANMYTGMGGMVQTVQTRYTFGAALFVGWVAGGLTLIGGVMMCIACRGLAPEETNYKAVSYHASGHSVAYKPGGFKASTGFGSNTKNKKIYDGGARTEDEVQSYPSKHDYV\n",
            "\n"
          ]
        }
      ]
    },
    {
      "cell_type": "code",
      "source": [
        "def to_fasta(seqs: dict) -> str:\n",
        "    fasta = ''\n",
        "    for acc_num, seq in seqs.items():\n",
        "        seqrec = SeqRecord(Seq(seq))\n",
        "        seqrec.id = acc_num\n",
        "        fasta += seqrec.format('fasta')\n",
        "    return fasta"
      ],
      "metadata": {
        "id": "TgIMzIE0chsG"
      },
      "execution_count": 13,
      "outputs": []
    },
    {
      "cell_type": "code",
      "source": [
        "# https://rest.uniprot.org/beta/docs/\n",
        "WEBSITE_API = \"https://rest.uniprot.org/beta\"\n",
        "def request_multi_alignment(seqs: dict) -> str:\n",
        "    '''send a request to the European Bioinformatics Institute\n",
        "    for multiple alignment of several sequences'''\n",
        "    fasta = to_fasta(seqs)\n",
        "    r = requests.post(\n",
        "        \"https://www.ebi.ac.uk/Tools/services/rest/clustalo/run\", \n",
        "        data={\n",
        "            \"email\": \"lestimpe@gmail.com\",\n",
        "            \"iterations\": 1,\n",
        "            \"outfmt\": \"clustal_num\",\n",
        "            \"order\": \"aligned\",\n",
        "            \"sequence\": fasta\n",
        "           }\n",
        "    )\n",
        "    r.raise_for_status()\n",
        "    job_id = r.text\n",
        "    job_status = 'RUNNING'\n",
        "    # ping the server every few seconds to see if the job is done\n",
        "    while job_status == 'RUNNING':\n",
        "        time.sleep(4)\n",
        "        job_status_req = requests.get(\n",
        "            f\"https://www.ebi.ac.uk/Tools/services/rest/clustalo/status/{job_id}\")\n",
        "        job_status_req.raise_for_status()\n",
        "        job_status = job_status_req.text\n",
        "    # now that the job is done, get the alignment\n",
        "    resp = requests.get(\n",
        "        f\"https://www.ebi.ac.uk/Tools/services/rest/clustalo/result/{job_id}/aln-clustal_num\")\n",
        "    resp.raise_for_status()\n",
        "    return resp.text"
      ],
      "metadata": {
        "id": "0bYht6YYd7NR"
      },
      "execution_count": 31,
      "outputs": []
    },
    {
      "cell_type": "code",
      "source": [
        "def align_isoforms(acc_num: str, **kwargs) -> str:\n",
        "    '''get all isoforms of the protein with accession number acc_num,\n",
        "    and return a sequence alignment.\n",
        "    Can also pass in keyword arguments to set parameters for the alignment,\n",
        "    if there are only two isoforms to align'''\n",
        "    prots = get_all_prots(acc_num)\n",
        "    seqs = get_all_seqs(prots)\n",
        "    if len(seqs) < 2:\n",
        "        print(f\"The protein with UniProt accession number {acc_num} has only one isoform\")\n",
        "        (acc1, seq1) = list(seqs.items())[0]\n",
        "        return seq1\n",
        "    if len(seqs) == 2:\n",
        "        # BioPython can do a simple alignment for us\n",
        "        aligner = get_aligner(**kwargs)\n",
        "        (acc1, seq1), (acc2, seq2) = seqs.items()\n",
        "        alignments = aligner.align(seq1, seq2)\n",
        "        line1, line2, line3 = str(alignments[0]).splitlines()\n",
        "        return f'{acc1:<12}{line1}\\n{\" \"*12}{line2}\\n{acc2:<12}{line3}'\n",
        "    # for more than three isoforms, we need to ask EBI for help\n",
        "    return request_multi_alignment(seqs)"
      ],
      "metadata": {
        "id": "mC26XJ0Tf81c"
      },
      "execution_count": 32,
      "outputs": []
    },
    {
      "cell_type": "code",
      "source": [
        "# test aligning something with two isoforms\n",
        "alignment = align_isoforms(claudin)\n",
        "print(alignment)"
      ],
      "metadata": {
        "id": "f164z1iJjYgs",
        "outputId": "0a34a13b-da46-459d-bf8f-9924a7015374",
        "colab": {
          "base_uri": "https://localhost:8080/"
        }
      },
      "execution_count": 16,
      "outputs": [
        {
          "output_type": "stream",
          "name": "stdout",
          "text": [
            "P56856      MSTTTCQVVAFLLSILGLAGCIAATGMDMWSTQDLYDNPVTSVFQYEGLWRSCVRQSSGFTECRPYFTILGLPAMLQAVRALMIVGIVLGAIGLLVSIFALKCIRIGSMEDSAKANMTLTSGIMFIVSGLCAIAGVSVFANMLVTNFWMSTANMYTGMGGMVQTVQTRYTFGAALFVGWVAGGLTLIGGVMMCIACRGLAPEETNYKAVSYHASGHSVAYKPGGFKASTGFGSNTKNKKIYDGGARTEDEVQSYPSKHDYV\n",
            "                                                                                 ||||||||||||||||||||||||||||||||||||||||||||||||||||||||||||||||||||||||||||||||||||||||||||||||||||||||||||||||||||||||||||||||||||||||||||||||||||||||||||||||||||||||||||||||||||||||||||||||\n",
            "P56856-2    MAVTACQGLGFVVSLIGIAGIIAATCMDQWSTQDLYNNPVTAVFNYQGLWRSCVRESSGFTECRGYFTLLGLPAMLQAVRALMIVGIVLGAIGLLVSIFALKCIRIGSMEDSAKANMTLTSGIMFIVSGLCAIAGVSVFANMLVTNFWMSTANMYTGMGGMVQTVQTRYTFGAALFVGWVAGGLTLIGGVMMCIACRGLAPEETNYKAVSYHASGHSVAYKPGGFKASTGFGSNTKNKKIYDGGARTEDEVQSYPSKHDYV\n"
          ]
        }
      ]
    },
    {
      "cell_type": "code",
      "source": [
        "# test aligning things with >= 3 isoforms\n",
        "ampk_gamma = 'P54619' # https://en.wikipedia.org/wiki/PRKAG1\n",
        "align_ampk = align_isoforms(ampk_gamma)\n",
        "print(align_ampk)"
      ],
      "metadata": {
        "colab": {
          "base_uri": "https://localhost:8080/"
        },
        "id": "dGRO0z9KlSTZ",
        "outputId": "f5ac27d3-ab09-4664-860b-259c8410b4c6"
      },
      "execution_count": 33,
      "outputs": [
        {
          "output_type": "stream",
          "name": "stdout",
          "text": [
            "CLUSTAL O(1.2.4) multiple sequence alignment\n",
            "\n",
            "\n",
            "P54619        METVISSDSSPAVENEHPQETPESNNSVYTSFMKSHRCYDLIPTSSKLVVFDTSLQVKKA\t60\n",
            "P54619-2      --------------------------------MKSHRCYDLIPTSSKLVVFDTSLQVKKA\t28\n",
            "P54619-3      METVISSDSSPAVENEHPQETPESNNSVYTSFMKSHRCYDLIPTSSKLVVFDTSLQVKKA\t60\n",
            "                                              ****************************\n",
            "\n",
            "P54619        FFALVTNGVRAAPLWDSKKQSFV---------GMLTITDFINILHRYYKSALVQIYELEE\t111\n",
            "P54619-2      FFALVTNGVRAAPLWDSKKQSFV---------GMLTITDFINILHRYYKSALVQIYELEE\t79\n",
            "P54619-3      FFALVTNGVRAAPLWDSKKQSFVVLRALSCPLGMLTITDFINILHRYYKSALVQIYELEE\t120\n",
            "              ***********************         ****************************\n",
            "\n",
            "P54619        HKIETWREVYLQDSFKPLVCISPNASLFDAVSSLIRNKIHRLPVIDPESGNTLYILTHKR\t171\n",
            "P54619-2      HKIETWREVYLQDSFKPLVCISPNASLFDAVSSLIRNKIHRLPVIDPESGNTLYILTHKR\t139\n",
            "P54619-3      HKIETWREVYLQDSFKPLVCISPNASLFDAVSSLIRNKIHRLPVIDPESGNTLYILTHKR\t180\n",
            "              ************************************************************\n",
            "\n",
            "P54619        ILKFLKLFITEFPKPEFMSKSLEELQIGTYANIAMVRTTTPVYVALGIFVQHRVSALPVV\t231\n",
            "P54619-2      ILKFLKLFITEFPKPEFMSKSLEELQIGTYANIAMVRTTTPVYVALGIFVQHRVSALPVV\t199\n",
            "P54619-3      ILKFLKLFITEFPKPEFMSKSLEELQIGTYANIAMVRTTTPVYVALGIFVQHRVSALPVV\t240\n",
            "              ************************************************************\n",
            "\n",
            "P54619        DEKGRVVDIYSKFDVINLAAEKTYNNLDVSVTKALQHRSHYFEGVLKCYLHETLETIINR\t291\n",
            "P54619-2      DEKGRVVDIYSKFDVINLAAEKTYNNLDVSVTKALQHRSHYFEGVLKCYLHETLETIINR\t259\n",
            "P54619-3      DEKGRVVDIYSKFDVINLAAEKTYNNLDVSVTKALQHRSHYFEGVLKCYLHETLETIINR\t300\n",
            "              ************************************************************\n",
            "\n",
            "P54619        LVEAEVHRLVVVDENDVVKGIVSLSDILQALVLTGGEKKP\t331\n",
            "P54619-2      LVEAEVHRLVVVDENDVVKGIVSLSDILQALVLTGGEKKP\t299\n",
            "P54619-3      LVEAEVHRLVVVDENDVVKGIVSLSDILQALVLTGGEKKP\t340\n",
            "              ****************************************\n",
            "\n"
          ]
        }
      ]
    },
    {
      "cell_type": "code",
      "source": [
        "# test aligning things with only one isoform\n",
        "ckb = 'P12277' # https://en.wikipedia.org/wiki/CKB_(gene)\n",
        "align_ckb = align_isoforms(ckb)\n",
        "print(align_ckb)"
      ],
      "metadata": {
        "colab": {
          "base_uri": "https://localhost:8080/"
        },
        "id": "3kfd8bh0mubz",
        "outputId": "4d101dc7-1174-46e4-af79-4a10f4464cb5"
      },
      "execution_count": 34,
      "outputs": [
        {
          "output_type": "stream",
          "name": "stdout",
          "text": [
            "The protein with UniProt accession number P12277 has only one isoform\n",
            "MPFSNSHNALKLRFPAEDEFPDLSAHNNHMAKVLTPELYAELRAKSTPSGFTLDDVIQTGVDNPGHPYIMTVGCVAGDEESYEVFKDLFDPIIEDRHGGYKPSDEHKTDLNPDNLQGGDDLDPNYVLSSRVRTGRSIRGFCLPPHCSRGERRAIEKLAVEALSSLDGDLAGRYYALKSMTEAEQQQLIDDHFLFDKPVSPLLLASGMARDWPDARGIWHNDNKTFLVWVNEEDHLRVISMQKGGNMKEVFTRFCTGLTQIETLFKSKDYEFMWNPHLGYILTCPSNLGTGLRAGVHIKLPNLGKHEKFSEVLKRLRLQKRGTGGVDTAAVGGVFDVSNADRLGFSEVELVQMVVDGVKLLIEMEQRLEQGQAIDDLMPAQK\n"
          ]
        }
      ]
    },
    {
      "cell_type": "code",
      "source": [
        "has1 = 'Q92839' # https://en.wikipedia.org/wiki/HAS1\n",
        "align_has1 = align_isoforms(has1)"
      ],
      "metadata": {
        "colab": {
          "base_uri": "https://localhost:8080/"
        },
        "id": "ueyFv5KZoyLo",
        "outputId": "0c11ea7c-6157-4b79-ddbf-49d90575cff7"
      },
      "execution_count": 35,
      "outputs": [
        {
          "output_type": "stream",
          "name": "stdout",
          "text": [
            "The protein with UniProt accession number Q92839 has only one isoform\n"
          ]
        }
      ]
    }
  ]
}