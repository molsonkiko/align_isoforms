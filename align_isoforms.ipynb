{
  "cells": [
    {
      "cell_type": "markdown",
      "metadata": {},
      "source": [
        "<a href=\"https://colab.research.google.com/github/molsonkiko/align_isoforms/blob/main/align_isoforms.ipynb\" target=\"_parent\">\n",
        "    <img src=\"https://colab.research.google.com/assets/colab-badge.svg\" alt=\"Open In Colab\"/>\n",
        "</a>"
      ]
    },
    {
      "cell_type": "code",
      "execution_count": 1,
      "metadata": {
        "colab": {
          "base_uri": "https://localhost:8080/"
        },
        "id": "VaDMICcH4Zw5",
        "outputId": "e3086af7-419d-4b87-dfc1-1dfecaf2e60d"
      },
      "outputs": [
        {
          "name": "stdout",
          "output_type": "stream",
          "text": [
            "Looking in indexes: https://pypi.org/simple, https://us-python.pkg.dev/colab-wheels/public/simple/\n",
            "Requirement already satisfied: biopython in /usr/local/lib/python3.7/dist-packages (1.79)\n",
            "Requirement already satisfied: numpy in /usr/local/lib/python3.7/dist-packages (from biopython) (1.21.6)\n"
          ]
        }
      ],
      "source": [
        "!pip install biopython\n",
        "# lib libraries\n",
        "import time\n",
        "# 3rd-party libraries\n",
        "import Bio\n",
        "from Bio import Align\n",
        "from Bio.Seq import Seq\n",
        "from Bio.SeqRecord import SeqRecord\n",
        "import requests"
      ]
    },
    {
      "cell_type": "markdown",
      "metadata": {
        "id": "skJZfsrynwSa"
      },
      "source": [
        "For discussion of isoforms, see https://en.wikipedia.org/wiki/Protein_isoform"
      ]
    },
    {
      "cell_type": "code",
      "execution_count": 2,
      "metadata": {
        "id": "8dwTdpwTgZ-j"
      },
      "outputs": [],
      "source": [
        "class AlignmentFailedError(Exception):\n",
        "    pass"
      ]
    },
    {
      "cell_type": "code",
      "execution_count": 3,
      "metadata": {
        "id": "Add22OzP5kWe"
      },
      "outputs": [],
      "source": [
        "# see https://rest.uniprot.org/docs/#/\n",
        "BASE_QUERY = \"https://rest.uniprot.org/uniprotkb/search?query=accession%3D\"\n",
        "def get_protein(acc_num: str) -> dict:\n",
        "    '''Get the information in UniProt associated with accession number\n",
        "    acc_num'''\n",
        "    resp = requests.get(BASE_QUERY + acc_num)\n",
        "    resp.raise_for_status()\n",
        "    return resp.json()['results']"
      ]
    },
    {
      "cell_type": "code",
      "execution_count": 4,
      "metadata": {
        "id": "Q9IWPBeiFaeZ"
      },
      "outputs": [],
      "source": [
        "def get_sequence(prot: dict) -> str:\n",
        "    return prot[0]['sequence']['value']"
      ]
    },
    {
      "cell_type": "code",
      "execution_count": 5,
      "metadata": {
        "id": "fAzYv8PlLnmD"
      },
      "outputs": [],
      "source": [
        "def get_isoform_ids(prot: dict) -> list:\n",
        "    xrefs = prot[0]['uniProtKBCrossReferences']\n",
        "    out = set()\n",
        "    for ref in xrefs:\n",
        "        isof = ref.get('isoformId')\n",
        "        if isof is not None:\n",
        "            out.add(isof)\n",
        "    return sorted(out)"
      ]
    },
    {
      "cell_type": "code",
      "execution_count": 6,
      "metadata": {
        "id": "d6V_ztvaNGdI"
      },
      "outputs": [],
      "source": [
        "def get_isoforms(prot: dict) -> dict:\n",
        "    iso_ids = get_isoform_ids(prot)\n",
        "    seqs = {}\n",
        "    for id_ in iso_ids:\n",
        "        try:\n",
        "            seqs[id_] = get_protein(id_)\n",
        "        except:\n",
        "            continue\n",
        "    return seqs"
      ]
    },
    {
      "cell_type": "code",
      "execution_count": 7,
      "metadata": {
        "id": "ZLncRRYeTnkp"
      },
      "outputs": [],
      "source": [
        "def get_all_prots(acc_num: str) -> dict:\n",
        "    prot = get_protein(acc_num)\n",
        "    prots = {acc_num: prot}\n",
        "    seq = get_sequence(prot)\n",
        "    isos = get_isoforms(prot)\n",
        "    # remove the isoforms with the same sequence as the base acc num\n",
        "    for iso_acc_num, iso in list(isos.items()):\n",
        "        iso_seq = get_sequence(iso)\n",
        "        if iso_acc_num != acc_num and iso_seq == seq:\n",
        "            del isos[iso_acc_num]\n",
        "    return {**prots, **isos}"
      ]
    },
    {
      "cell_type": "code",
      "execution_count": 8,
      "metadata": {
        "id": "OE_BXPEONtaw"
      },
      "outputs": [],
      "source": [
        "claudin = 'P56856'\n",
        "all_prots = get_all_prots(claudin)"
      ]
    },
    {
      "cell_type": "code",
      "execution_count": 9,
      "metadata": {
        "id": "IzBJOj0rUwzq"
      },
      "outputs": [],
      "source": [
        "def get_all_seqs(prots: dict) -> dict:\n",
        "    return {k: get_sequence(v) for k, v in prots.items()}"
      ]
    },
    {
      "cell_type": "code",
      "execution_count": 10,
      "metadata": {
        "id": "l53uDIKEVpYh"
      },
      "outputs": [],
      "source": [
        "seqs = get_all_seqs(all_prots)\n",
        "seq1, seq2 = seqs.values()"
      ]
    },
    {
      "cell_type": "code",
      "execution_count": 11,
      "metadata": {
        "id": "tAlSCuhIYV5P"
      },
      "outputs": [],
      "source": [
        "def get_aligner(**kwargs) -> Bio.Align.PairwiseAligner:\n",
        "    aligner = Align.PairwiseAligner()\n",
        "    aligner.mode = 'local'\n",
        "    aligner.mismatch_score = kwargs.get('mismatch_score', -10)\n",
        "    aligner.target_internal_open_gap_score = kwargs.get('target_internal_open_gap_score', -20.)\n",
        "    aligner.target_internal_extend_gap_score = kwargs.get('target_internal_extend_gap_score', -5.)\n",
        "    aligner.target_left_open_gap_score = kwargs.get('target_left_open_gap_score', -10.)\n",
        "    aligner.target_left_extend_gap_score = kwargs.get('target_left_extend_gap_score', -0.5)\n",
        "    aligner.target_right_open_gap_score = kwargs.get('target_right_open_gap_score', -10.)\n",
        "    aligner.target_right_extend_gap_score = kwargs.get('target_right_extend_gap_score', -0.5)\n",
        "    aligner.query_internal_open_gap_score = kwargs.get('query_internal_open_gap_score', -10.)\n",
        "    aligner.query_internal_extend_gap_score = kwargs.get('query_internal_extend_gap_score', -0.5)\n",
        "    aligner.query_left_open_gap_score = kwargs.get('query_left_open_gap_score', -10.)\n",
        "    aligner.query_left_extend_gap_score = kwargs.get('query_left_extend_gap_score', -0.5)\n",
        "    aligner.query_right_open_gap_score = kwargs.get('query_right_open_gap_score', -10.)\n",
        "    aligner.query_right_extend_gap_score = kwargs.get('query_right_extend_gap_score', -0.5)\n",
        "    return aligner"
      ]
    },
    {
      "cell_type": "code",
      "execution_count": 12,
      "metadata": {
        "colab": {
          "base_uri": "https://localhost:8080/"
        },
        "id": "zduQLFRGY_kC",
        "outputId": "a8824e4b-4732-40bf-d49c-397fdee828f6"
      },
      "outputs": [
        {
          "name": "stdout",
          "output_type": "stream",
          "text": [
            "MSTTTCQVVAFLLSILGLAGCIAATGMDMWSTQDLYDNPVTSVFQYEGLWRSCVRQSSGFTECRPYFTILGLPAMLQAVRALMIVGIVLGAIGLLVSIFALKCIRIGSMEDSAKANMTLTSGIMFIVSGLCAIAGVSVFANMLVTNFWMSTANMYTGMGGMVQTVQTRYTFGAALFVGWVAGGLTLIGGVMMCIACRGLAPEETNYKAVSYHASGHSVAYKPGGFKASTGFGSNTKNKKIYDGGARTEDEVQSYPSKHDYV\n",
            "                                                                     ||||||||||||||||||||||||||||||||||||||||||||||||||||||||||||||||||||||||||||||||||||||||||||||||||||||||||||||||||||||||||||||||||||||||||||||||||||||||||||||||||||||||||||||||||||||||||||||||\n",
            "MAVTACQGLGFVVSLIGIAGIIAATCMDQWSTQDLYNNPVTAVFNYQGLWRSCVRESSGFTECRGYFTLLGLPAMLQAVRALMIVGIVLGAIGLLVSIFALKCIRIGSMEDSAKANMTLTSGIMFIVSGLCAIAGVSVFANMLVTNFWMSTANMYTGMGGMVQTVQTRYTFGAALFVGWVAGGLTLIGGVMMCIACRGLAPEETNYKAVSYHASGHSVAYKPGGFKASTGFGSNTKNKKIYDGGARTEDEVQSYPSKHDYV\n",
            "\n"
          ]
        }
      ],
      "source": [
        "aligner = get_aligner()\n",
        "alignments = aligner.align(seq1, seq2)\n",
        "print(alignments[0])"
      ]
    },
    {
      "cell_type": "code",
      "execution_count": 13,
      "metadata": {
        "id": "TgIMzIE0chsG"
      },
      "outputs": [],
      "source": [
        "def to_fasta(seqs: dict) -> str:\n",
        "    fasta = ''\n",
        "    for acc_num, seq in seqs.items():\n",
        "        seqrec = SeqRecord(Seq(seq))\n",
        "        seqrec.id = acc_num\n",
        "        fasta += seqrec.format('fasta')\n",
        "    return fasta"
      ]
    },
    {
      "cell_type": "code",
      "execution_count": 14,
      "metadata": {
        "id": "0bYht6YYd7NR"
      },
      "outputs": [],
      "source": [
        "# https://rest.uniprot.org/beta/docs/\n",
        "WEBSITE_API = \"https://rest.uniprot.org/beta\"\n",
        "def request_multi_alignment(seqs: dict) -> str:\n",
        "    '''send a request to the European Bioinformatics Institute\n",
        "    for multiple alignment of several sequences'''\n",
        "    fasta = to_fasta(seqs)\n",
        "    r = requests.post(\n",
        "        \"https://www.ebi.ac.uk/Tools/services/rest/clustalo/run\", \n",
        "        data={\n",
        "            \"email\": \"lestimpe@gmail.com\",\n",
        "            \"iterations\": 0,\n",
        "            \"outfmt\": \"clustal_num\",\n",
        "            \"order\": \"aligned\",\n",
        "            \"sequence\": fasta\n",
        "           }\n",
        "    )\n",
        "    r.raise_for_status()\n",
        "    job_id = 'RUNNING'\n",
        "    # ping the server every couple of seconds to see if the job is done\n",
        "    while job_id == 'RUNNING':\n",
        "        time.sleep(4)\n",
        "        job_id_req = requests.get(\n",
        "            f\"https://www.ebi.ac.uk/Tools/services/rest/clustalo/status/{job_id}\")\n",
        "        job_id_req.raise_for_status()\n",
        "        job_id = job_id_req.text\n",
        "    # now that the job is done, get the alignment\n",
        "    resp = requests.get(\n",
        "        f\"https://www.ebi.ac.uk/Tools/services/rest/clustalo/result/{job_id}/aln-clustal_num\")\n",
        "    resp.raise_for_status()\n",
        "    return resp.text"
      ]
    },
    {
      "cell_type": "code",
      "execution_count": 25,
      "metadata": {
        "id": "mC26XJ0Tf81c"
      },
      "outputs": [],
      "source": [
        "def align_isoforms(acc_num: str, **kwargs) -> str:\n",
        "    '''get all isoforms of the protein with accession number acc_num,\n",
        "    and return a sequence alignment.\n",
        "    Can also pass in keyword arguments to set parameters for the alignment,\n",
        "    if there are only two isoforms to align'''\n",
        "    prots = get_all_prots(acc_num)\n",
        "    seqs = get_all_seqs(prots)\n",
        "    if len(seqs) < 2:\n",
        "        print(f\"The protein with UniProt accession number {acc_num} has only one isoform\")\n",
        "        (acc1, seq1) = list(seqs.items())[0]\n",
        "        return seq1\n",
        "    if len(seqs) == 2:\n",
        "        # BioPython can do a simple alignment for us\n",
        "        aligner = get_aligner(**kwargs)\n",
        "        (acc1, seq1), (acc2, seq2) = seqs.items()\n",
        "        alignments = aligner.align(seq1, seq2)\n",
        "        line1, line2, line3 = str(alignments[0]).splitlines()\n",
        "        return f'{acc1:<12}{line1}\\n{\" \"*12}{line2}\\n{acc2:<12}{line3}'\n",
        "    # for more than three isoforms, we need to ask EBI for help\n",
        "    return request_multi_alignment(seqs)"
      ]
    },
    {
      "cell_type": "code",
      "execution_count": 16,
      "metadata": {
        "id": "f164z1iJjYgs"
      },
      "outputs": [],
      "source": [
        "# test aligning something with two isoforms\n",
        "alignment = align_isoforms(claudin)\n",
        "print(alignment)"
      ]
    },
    {
      "cell_type": "code",
      "execution_count": 41,
      "metadata": {
        "colab": {
          "base_uri": "https://localhost:8080/",
          "height": 381
        },
        "id": "dGRO0z9KlSTZ",
        "outputId": "5cc1b0db-ac13-4ce0-e09c-dce2c40025c6"
      },
      "outputs": [
        {
          "ename": "HTTPError",
          "evalue": "ignored",
          "output_type": "error",
          "traceback": [
            "\u001b[0;31m---------------------------------------------------------------------------\u001b[0m",
            "\u001b[0;31mHTTPError\u001b[0m                                 Traceback (most recent call last)",
            "\u001b[0;32m<ipython-input-41-5be211dfd808>\u001b[0m in \u001b[0;36m<module>\u001b[0;34m\u001b[0m\n\u001b[1;32m      1\u001b[0m \u001b[0;31m# test aligning things with >= 3 isoforms\u001b[0m\u001b[0;34m\u001b[0m\u001b[0;34m\u001b[0m\u001b[0;34m\u001b[0m\u001b[0m\n\u001b[1;32m      2\u001b[0m \u001b[0mampk_gamma\u001b[0m \u001b[0;34m=\u001b[0m \u001b[0;34m'P54619'\u001b[0m \u001b[0;31m# https://en.wikipedia.org/wiki/PRKAG1\u001b[0m\u001b[0;34m\u001b[0m\u001b[0;34m\u001b[0m\u001b[0m\n\u001b[0;32m----> 3\u001b[0;31m \u001b[0malign_ampk\u001b[0m \u001b[0;34m=\u001b[0m \u001b[0malign_isoforms\u001b[0m\u001b[0;34m(\u001b[0m\u001b[0mampk_gamma\u001b[0m\u001b[0;34m)\u001b[0m\u001b[0;34m\u001b[0m\u001b[0;34m\u001b[0m\u001b[0m\n\u001b[0m\u001b[1;32m      4\u001b[0m \u001b[0mprint\u001b[0m\u001b[0;34m(\u001b[0m\u001b[0malign_ampk\u001b[0m\u001b[0;34m)\u001b[0m\u001b[0;34m\u001b[0m\u001b[0;34m\u001b[0m\u001b[0m\n",
            "\u001b[0;32m<ipython-input-25-d61387a5d6fe>\u001b[0m in \u001b[0;36malign_isoforms\u001b[0;34m(acc_num, **kwargs)\u001b[0m\n\u001b[1;32m     18\u001b[0m         \u001b[0;32mreturn\u001b[0m \u001b[0;34mf'{acc1:<12}{line1}\\n{\" \"*12}{line2}\\n{acc2:<12}{line3}'\u001b[0m\u001b[0;34m\u001b[0m\u001b[0;34m\u001b[0m\u001b[0m\n\u001b[1;32m     19\u001b[0m     \u001b[0;31m# for more than three isoforms, we need to ask EBI for help\u001b[0m\u001b[0;34m\u001b[0m\u001b[0;34m\u001b[0m\u001b[0;34m\u001b[0m\u001b[0m\n\u001b[0;32m---> 20\u001b[0;31m     \u001b[0;32mreturn\u001b[0m \u001b[0mrequest_multi_alignment\u001b[0m\u001b[0;34m(\u001b[0m\u001b[0mseqs\u001b[0m\u001b[0;34m)\u001b[0m\u001b[0;34m\u001b[0m\u001b[0;34m\u001b[0m\u001b[0m\n\u001b[0m",
            "\u001b[0;32m<ipython-input-14-0b41f7fa5c7c>\u001b[0m in \u001b[0;36mrequest_multi_alignment\u001b[0;34m(seqs)\u001b[0m\n\u001b[1;32m     27\u001b[0m     resp = requests.get(\n\u001b[1;32m     28\u001b[0m         f\"https://www.ebi.ac.uk/Tools/services/rest/clustalo/result/{job_id}/aln-clustal_num\")\n\u001b[0;32m---> 29\u001b[0;31m     \u001b[0mresp\u001b[0m\u001b[0;34m.\u001b[0m\u001b[0mraise_for_status\u001b[0m\u001b[0;34m(\u001b[0m\u001b[0;34m)\u001b[0m\u001b[0;34m\u001b[0m\u001b[0;34m\u001b[0m\u001b[0m\n\u001b[0m\u001b[1;32m     30\u001b[0m     \u001b[0;32mreturn\u001b[0m \u001b[0mresp\u001b[0m\u001b[0;34m.\u001b[0m\u001b[0mtext\u001b[0m\u001b[0;34m\u001b[0m\u001b[0;34m\u001b[0m\u001b[0m\n",
            "\u001b[0;32m/usr/local/lib/python3.7/dist-packages/requests/models.py\u001b[0m in \u001b[0;36mraise_for_status\u001b[0;34m(self)\u001b[0m\n\u001b[1;32m    939\u001b[0m \u001b[0;34m\u001b[0m\u001b[0m\n\u001b[1;32m    940\u001b[0m         \u001b[0;32mif\u001b[0m \u001b[0mhttp_error_msg\u001b[0m\u001b[0;34m:\u001b[0m\u001b[0;34m\u001b[0m\u001b[0;34m\u001b[0m\u001b[0m\n\u001b[0;32m--> 941\u001b[0;31m             \u001b[0;32mraise\u001b[0m \u001b[0mHTTPError\u001b[0m\u001b[0;34m(\u001b[0m\u001b[0mhttp_error_msg\u001b[0m\u001b[0;34m,\u001b[0m \u001b[0mresponse\u001b[0m\u001b[0;34m=\u001b[0m\u001b[0mself\u001b[0m\u001b[0;34m)\u001b[0m\u001b[0;34m\u001b[0m\u001b[0;34m\u001b[0m\u001b[0m\n\u001b[0m\u001b[1;32m    942\u001b[0m \u001b[0;34m\u001b[0m\u001b[0m\n\u001b[1;32m    943\u001b[0m     \u001b[0;32mdef\u001b[0m \u001b[0mclose\u001b[0m\u001b[0;34m(\u001b[0m\u001b[0mself\u001b[0m\u001b[0;34m)\u001b[0m\u001b[0;34m:\u001b[0m\u001b[0;34m\u001b[0m\u001b[0;34m\u001b[0m\u001b[0m\n",
            "\u001b[0;31mHTTPError\u001b[0m: 400 Client Error: Bad Request for url: https://www.ebi.ac.uk/Tools/services/rest/clustalo/result/NOT_FOUND/aln-clustal_num"
          ]
        }
      ],
      "source": [
        "# test aligning things with >= 3 isoforms\n",
        "ampk_gamma = 'P54619' # https://en.wikipedia.org/wiki/PRKAG1\n",
        "align_ampk = align_isoforms(ampk_gamma)\n",
        "print(align_ampk)"
      ]
    },
    {
      "cell_type": "code",
      "execution_count": 29,
      "metadata": {
        "id": "2dTDsmprpRTf"
      },
      "outputs": [],
      "source": [
        "isos_ampk = get_isoforms(get_protein(ampk_gamma))"
      ]
    },
    {
      "cell_type": "code",
      "execution_count": 30,
      "metadata": {
        "colab": {
          "base_uri": "https://localhost:8080/"
        },
        "id": "ip9lVEP-pcxa",
        "outputId": "92dd1186-01a6-49a9-903a-62cc1b27efc1"
      },
      "outputs": [
        {
          "data": {
            "text/plain": [
              "3"
            ]
          },
          "execution_count": 30,
          "metadata": {},
          "output_type": "execute_result"
        }
      ],
      "source": [
        "len(isos_ampk)"
      ]
    },
    {
      "cell_type": "code",
      "execution_count": 33,
      "metadata": {
        "id": "FMODzMLIpmN4"
      },
      "outputs": [],
      "source": [
        "ampk_seqs = get_all_seqs(isos_ampk)\n",
        "ampk_seq1, ampk_seq2, ampk_seq3 = ampk_seqs.values()"
      ]
    },
    {
      "cell_type": "code",
      "execution_count": 42,
      "metadata": {
        "colab": {
          "base_uri": "https://localhost:8080/"
        },
        "id": "8E6kdkphrgfc",
        "outputId": "bd274ed5-3071-4c4f-f9e3-81223d98573e"
      },
      "outputs": [
        {
          "name": "stdout",
          "output_type": "stream",
          "text": [
            ">P54619-1 <unknown description>\n",
            "METVISSDSSPAVENEHPQETPESNNSVYTSFMKSHRCYDLIPTSSKLVVFDTSLQVKKA\n",
            "FFALVTNGVRAAPLWDSKKQSFVGMLTITDFINILHRYYKSALVQIYELEEHKIETWREV\n",
            "YLQDSFKPLVCISPNASLFDAVSSLIRNKIHRLPVIDPESGNTLYILTHKRILKFLKLFI\n",
            "TEFPKPEFMSKSLEELQIGTYANIAMVRTTTPVYVALGIFVQHRVSALPVVDEKGRVVDI\n",
            "YSKFDVINLAAEKTYNNLDVSVTKALQHRSHYFEGVLKCYLHETLETIINRLVEAEVHRL\n",
            "VVVDENDVVKGIVSLSDILQALVLTGGEKKP\n",
            ">P54619-2 <unknown description>\n",
            "MKSHRCYDLIPTSSKLVVFDTSLQVKKAFFALVTNGVRAAPLWDSKKQSFVGMLTITDFI\n",
            "NILHRYYKSALVQIYELEEHKIETWREVYLQDSFKPLVCISPNASLFDAVSSLIRNKIHR\n",
            "LPVIDPESGNTLYILTHKRILKFLKLFITEFPKPEFMSKSLEELQIGTYANIAMVRTTTP\n",
            "VYVALGIFVQHRVSALPVVDEKGRVVDIYSKFDVINLAAEKTYNNLDVSVTKALQHRSHY\n",
            "FEGVLKCYLHETLETIINRLVEAEVHRLVVVDENDVVKGIVSLSDILQALVLTGGEKKP\n",
            ">P54619-3 <unknown description>\n",
            "METVISSDSSPAVENEHPQETPESNNSVYTSFMKSHRCYDLIPTSSKLVVFDTSLQVKKA\n",
            "FFALVTNGVRAAPLWDSKKQSFVVLRALSCPLGMLTITDFINILHRYYKSALVQIYELEE\n",
            "HKIETWREVYLQDSFKPLVCISPNASLFDAVSSLIRNKIHRLPVIDPESGNTLYILTHKR\n",
            "ILKFLKLFITEFPKPEFMSKSLEELQIGTYANIAMVRTTTPVYVALGIFVQHRVSALPVV\n",
            "DEKGRVVDIYSKFDVINLAAEKTYNNLDVSVTKALQHRSHYFEGVLKCYLHETLETIINR\n",
            "LVEAEVHRLVVVDENDVVKGIVSLSDILQALVLTGGEKKP\n",
            "\n"
          ]
        }
      ],
      "source": [
        "print(to_fasta(ampk_seqs))"
      ]
    },
    {
      "cell_type": "code",
      "execution_count": 38,
      "metadata": {
        "colab": {
          "base_uri": "https://localhost:8080/"
        },
        "id": "RcM0HS8nptpU",
        "outputId": "bba58b24-718f-4d31-ecde-d7f5e2ae73f0"
      },
      "outputs": [
        {
          "name": "stdout",
          "output_type": "stream",
          "text": [
            "METVISSDSSPAVENEHPQETPESNNSVYTSFMKSHRCYDLIPTSSKLVVFDTSLQVKKAFFALVTNGVRAAPLWDSKKQSFVGMLTITDFINILHRYYKSALVQIYELEEHKIETWREVYLQDSFKPLVCISPNASLFDAVSSLIRNKIHRLPVIDPESGNTLYILTHKRILKFLKLFITEFPKPEFMSKSLEELQIGTYANIAMVRTTTPVYVALGIFVQHRVSALPVVDEKGRVVDIYSKFDVINLAAEKTYNNLDVSVTKALQHRSHYFEGVLKCYLHETLETIINRLVEAEVHRLVVVDENDVVKGIVSLSDILQALVLTGGEKKP\n",
            "                                |||||||||||||||||||||||||||||||||||||||||||||||||||||||||||||||||||||||||||||||||||||||||||||||||||||||||||||||||||||||||||||||||||||||||||||||||||||||||||||||||||||||||||||||||||||||||||||||||||||||||||||||||||||||||||||||||||||||||||||||||||||||||||||||||||||||||||||||||||||||||||||||||||||||||||\n",
            "                                MKSHRCYDLIPTSSKLVVFDTSLQVKKAFFALVTNGVRAAPLWDSKKQSFVGMLTITDFINILHRYYKSALVQIYELEEHKIETWREVYLQDSFKPLVCISPNASLFDAVSSLIRNKIHRLPVIDPESGNTLYILTHKRILKFLKLFITEFPKPEFMSKSLEELQIGTYANIAMVRTTTPVYVALGIFVQHRVSALPVVDEKGRVVDIYSKFDVINLAAEKTYNNLDVSVTKALQHRSHYFEGVLKCYLHETLETIINRLVEAEVHRLVVVDENDVVKGIVSLSDILQALVLTGGEKKP\n",
            "\n"
          ]
        }
      ],
      "source": [
        "ampk_align12 = aligner.align(ampk_seq1, ampk_seq2)\n",
        "print(ampk_align12[0])"
      ]
    },
    {
      "cell_type": "code",
      "execution_count": 39,
      "metadata": {
        "colab": {
          "base_uri": "https://localhost:8080/"
        },
        "id": "-epXcXERqbvF",
        "outputId": "25349710-a069-46c9-fb89-7628a423d502"
      },
      "outputs": [
        {
          "name": "stdout",
          "output_type": "stream",
          "text": [
            "                                         MKSHRCYDLIPTSSKLVVFDTSLQVKKAFFALVTNGVRAAPLWDSKKQSFVGMLTITDFINILHRYYKSALVQIYELEEHKIETWREVYLQDSFKPLVCISPNASLFDAVSSLIRNKIHRLPVIDPESGNTLYILTHKRILKFLKLFITEFPKPEFMSKSLEELQIGTYANIAMVRTTTPVYVALGIFVQHRVSALPVVDEKGRVVDIYSKFDVINLAAEKTYNNLDVSVTKALQHRSHYFEGVLKCYLHETLETIINRLVEAEVHRLVVVDENDVVKGIVSLSDILQALVLTGGEKKP\n",
            "                                                                                            ||||||||||||||||||||||||||||||||||||||||||||||||||||||||||||||||||||||||||||||||||||||||||||||||||||||||||||||||||||||||||||||||||||||||||||||||||||||||||||||||||||||||||||||||||||||||||||||||||||||||||||||||||||||||||||||||||||||||||||||||||||||||\n",
            "METVISSDSSPAVENEHPQETPESNNSVYTSFMKSHRCYDLIPTSSKLVVFDTSLQVKKAFFALVTNGVRAAPLWDSKKQSFVVLRALSCPLGMLTITDFINILHRYYKSALVQIYELEEHKIETWREVYLQDSFKPLVCISPNASLFDAVSSLIRNKIHRLPVIDPESGNTLYILTHKRILKFLKLFITEFPKPEFMSKSLEELQIGTYANIAMVRTTTPVYVALGIFVQHRVSALPVVDEKGRVVDIYSKFDVINLAAEKTYNNLDVSVTKALQHRSHYFEGVLKCYLHETLETIINRLVEAEVHRLVVVDENDVVKGIVSLSDILQALVLTGGEKKP\n",
            "\n"
          ]
        }
      ],
      "source": [
        "ampk_align23 = aligner.align(ampk_seq2, ampk_seq3)\n",
        "print(ampk_align23[0])"
      ]
    },
    {
      "cell_type": "code",
      "execution_count": 40,
      "metadata": {
        "colab": {
          "base_uri": "https://localhost:8080/"
        },
        "id": "B7vLr8HSqo0A",
        "outputId": "56fbf81d-fa94-4801-c49e-7d1acf60c181"
      },
      "outputs": [
        {
          "name": "stdout",
          "output_type": "stream",
          "text": [
            "METVISSDSSPAVENEHPQETPESNNSVYTSFMKSHRCYDLIPTSSKLVVFDTSLQVKKAFFALVTNGVRAAPLWDSKKQSFV---------GMLTITDFINILHRYYKSALVQIYELEEHKIETWREVYLQDSFKPLVCISPNASLFDAVSSLIRNKIHRLPVIDPESGNTLYILTHKRILKFLKLFITEFPKPEFMSKSLEELQIGTYANIAMVRTTTPVYVALGIFVQHRVSALPVVDEKGRVVDIYSKFDVINLAAEKTYNNLDVSVTKALQHRSHYFEGVLKCYLHETLETIINRLVEAEVHRLVVVDENDVVKGIVSLSDILQALVLTGGEKKP\n",
            "|||||||||||||||||||||||||||||||||||||||||||||||||||||||||||||||||||||||||||||||||||---------||||||||||||||||||||||||||||||||||||||||||||||||||||||||||||||||||||||||||||||||||||||||||||||||||||||||||||||||||||||||||||||||||||||||||||||||||||||||||||||||||||||||||||||||||||||||||||||||||||||||||||||||||||||||||||||||||||||||||||||||||||||||\n",
            "METVISSDSSPAVENEHPQETPESNNSVYTSFMKSHRCYDLIPTSSKLVVFDTSLQVKKAFFALVTNGVRAAPLWDSKKQSFVVLRALSCPLGMLTITDFINILHRYYKSALVQIYELEEHKIETWREVYLQDSFKPLVCISPNASLFDAVSSLIRNKIHRLPVIDPESGNTLYILTHKRILKFLKLFITEFPKPEFMSKSLEELQIGTYANIAMVRTTTPVYVALGIFVQHRVSALPVVDEKGRVVDIYSKFDVINLAAEKTYNNLDVSVTKALQHRSHYFEGVLKCYLHETLETIINRLVEAEVHRLVVVDENDVVKGIVSLSDILQALVLTGGEKKP\n",
            "\n"
          ]
        }
      ],
      "source": [
        "ampk_align13 = aligner.align(ampk_seq1, ampk_seq3)\n",
        "print(ampk_align13[0])"
      ]
    },
    {
      "cell_type": "code",
      "execution_count": 26,
      "metadata": {
        "colab": {
          "base_uri": "https://localhost:8080/"
        },
        "id": "3kfd8bh0mubz",
        "outputId": "a7c73751-1a13-4cf6-fe61-678b1e570671"
      },
      "outputs": [
        {
          "name": "stdout",
          "output_type": "stream",
          "text": [
            "The protein with UniProt accession number P12277 has only one isoform\n",
            "MPFSNSHNALKLRFPAEDEFPDLSAHNNHMAKVLTPELYAELRAKSTPSGFTLDDVIQTGVDNPGHPYIMTVGCVAGDEESYEVFKDLFDPIIEDRHGGYKPSDEHKTDLNPDNLQGGDDLDPNYVLSSRVRTGRSIRGFCLPPHCSRGERRAIEKLAVEALSSLDGDLAGRYYALKSMTEAEQQQLIDDHFLFDKPVSPLLLASGMARDWPDARGIWHNDNKTFLVWVNEEDHLRVISMQKGGNMKEVFTRFCTGLTQIETLFKSKDYEFMWNPHLGYILTCPSNLGTGLRAGVHIKLPNLGKHEKFSEVLKRLRLQKRGTGGVDTAAVGGVFDVSNADRLGFSEVELVQMVVDGVKLLIEMEQRLEQGQAIDDLMPAQK\n"
          ]
        }
      ],
      "source": [
        "# test aligning things with only one isoform\n",
        "ckb = 'P12277' # https://en.wikipedia.org/wiki/CKB_(gene)\n",
        "align_ckb = align_isoforms(ckb)\n",
        "print(align_ckb)"
      ]
    },
    {
      "cell_type": "code",
      "execution_count": 27,
      "metadata": {
        "colab": {
          "base_uri": "https://localhost:8080/"
        },
        "id": "ueyFv5KZoyLo",
        "outputId": "f512f34d-f21d-4fb5-e938-d5ce4f361319"
      },
      "outputs": [
        {
          "name": "stdout",
          "output_type": "stream",
          "text": [
            "The protein with UniProt accession number Q92839 has only one isoform\n"
          ]
        }
      ],
      "source": [
        "has1 = 'Q92839' # https://en.wikipedia.org/wiki/HAS1\n",
        "align_has1 = align_isoforms(has1)"
      ]
    }
  ],
  "metadata": {
    "colab": {
      "collapsed_sections": [],
      "provenance": []
    },
    "kernelspec": {
      "display_name": "Python 3.10.2 64-bit",
      "language": "python",
      "name": "python3"
    },
    "language_info": {
      "codemirror_mode": {
        "name": "ipython",
        "version": 3
      },
      "file_extension": ".py",
      "mimetype": "text/x-python",
      "name": "python",
      "nbconvert_exporter": "python",
      "pygments_lexer": "ipython3",
      "version": "3.10.2"
    },
    "vscode": {
      "interpreter": {
        "hash": "12c8484dc3cb21b0ab500dbd30440a8033b5c7d5c872dfc99a17adee88032b74"
      }
    }
  },
  "nbformat": 4,
  "nbformat_minor": 0
}
