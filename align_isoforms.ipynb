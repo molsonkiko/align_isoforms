{
 "cells": [
  {
   "cell_type": "markdown",
   "metadata": {
    "id": "wNXbzp5bc1du"
   },
   "source": [
    "<a href=\"https://colab.research.google.com/github/molsonkiko/align_isoforms/blob/main/align_isoforms.ipynb\" target=\"_parent\">\n",
    "    <img src=\"https://colab.research.google.com/assets/colab-badge.svg\" alt=\"Open In Colab\"/>\n",
    "</a>"
   ]
  },
  {
   "cell_type": "code",
   "execution_count": 1,
   "metadata": {
    "colab": {
     "base_uri": "https://localhost:8080/"
    },
    "id": "VaDMICcH4Zw5",
    "outputId": "9c03e2db-fa54-44ff-97e9-b025c6c7bfce"
   },
   "outputs": [
    {
     "name": "stdout",
     "output_type": "stream",
     "text": [
      "Requirement already satisfied: biopython in c:\\users\\mjols\\python310\\lib\\site-packages (1.79)\n",
      "Requirement already satisfied: numpy in c:\\users\\mjols\\python310\\lib\\site-packages (from biopython) (1.22.2)\n"
     ]
    }
   ],
   "source": [
    "!pip install biopython\n",
    "# lib libraries\n",
    "import time\n",
    "# 3rd-party libraries\n",
    "import Bio\n",
    "from Bio import Align\n",
    "from Bio.Seq import Seq\n",
    "from Bio.SeqRecord import SeqRecord\n",
    "import requests"
   ]
  },
  {
   "cell_type": "markdown",
   "metadata": {
    "id": "skJZfsrynwSa"
   },
   "source": [
    "For discussion of isoforms, see https://en.wikipedia.org/wiki/Protein_isoform"
   ]
  },
  {
   "cell_type": "code",
   "execution_count": 2,
   "metadata": {
    "id": "Add22OzP5kWe"
   },
   "outputs": [],
   "source": [
    "# see https://rest.uniprot.org/docs/#/\n",
    "BASE_QUERY = \"https://rest.uniprot.org/uniprotkb/search?query=accession%3D\"\n",
    "def get_protein(acc_num: str) -> dict:\n",
    "    '''Get the information in UniProt associated with accession number acc_num.\n",
    "    API documentation: https://rest.uniprot.org/docs/#/uniprotkb/searchCursor\n",
    "    '''\n",
    "    resp = requests.get(BASE_QUERY + acc_num)\n",
    "    resp.raise_for_status()\n",
    "    return resp.json()['results']"
   ]
  },
  {
   "cell_type": "code",
   "execution_count": 3,
   "metadata": {
    "id": "Q9IWPBeiFaeZ"
   },
   "outputs": [],
   "source": [
    "def get_sequence(prot: dict) -> str:\n",
    "    '''prot: JSON from the UniProt API for a protein\n",
    "    Returns: the protein's sequence as a string\n",
    "    '''\n",
    "    return prot[0]['sequence']['value']"
   ]
  },
  {
   "cell_type": "code",
   "execution_count": 4,
   "metadata": {
    "id": "fAzYv8PlLnmD"
   },
   "outputs": [],
   "source": [
    "def get_isoform_ids(prot: dict) -> list:\n",
    "    '''prot: JSON from the UniProt API for a protein\n",
    "    Returns: a list of the UniProt accession nums for all isoforms\n",
    "    '''\n",
    "    comments = prot[0]['comments']\n",
    "    out = set()\n",
    "    for comment in comments:\n",
    "        isoforms = comment.get('isoforms')\n",
    "        if not isoforms:\n",
    "            continue\n",
    "        for isoform in isoforms:\n",
    "            iso_ids = isoform.get('isoformIds')\n",
    "            if not iso_ids:\n",
    "                continue\n",
    "            for iso_id in iso_ids:\n",
    "                out.add(iso_id)\n",
    "    return sorted(out)"
   ]
  },
  {
   "cell_type": "code",
   "execution_count": 5,
   "metadata": {
    "id": "d6V_ztvaNGdI"
   },
   "outputs": [],
   "source": [
    "def get_isoforms(prot: dict) -> dict:\n",
    "    '''prot: JSON from the UniProt API for a protein\n",
    "    Returns: A mapping of UniProt accession nums to the UniProt API JSON\n",
    "    for all isoforms of the protein\n",
    "    '''\n",
    "    iso_ids = get_isoform_ids(prot)\n",
    "    seqs = {}\n",
    "    for id_ in iso_ids:\n",
    "        try:\n",
    "            seqs[id_] = get_protein(id_)\n",
    "        except:\n",
    "            continue\n",
    "    return seqs"
   ]
  },
  {
   "cell_type": "code",
   "execution_count": 6,
   "metadata": {
    "id": "ZLncRRYeTnkp"
   },
   "outputs": [],
   "source": [
    "def get_all_prots(acc_num: str) -> dict:\n",
    "    '''acc_num: The UniProt accession number of a protein\n",
    "    Returns: a dict mapping the UniProt accession numbers for all distinct\n",
    "    isoforms of a protein to the UniProt API JSON for that isoform.\n",
    "    '''\n",
    "    prot = get_protein(acc_num)\n",
    "    prots = {acc_num: prot}\n",
    "    seq = get_sequence(prot)\n",
    "    isos = get_isoforms(prot)\n",
    "    # remove the isoforms with the same sequence as the base acc num\n",
    "    for iso_acc_num, iso in list(isos.items()):\n",
    "        iso_seq = get_sequence(iso)\n",
    "        if iso_acc_num != acc_num and iso_seq == seq:\n",
    "            del isos[iso_acc_num]\n",
    "    return {**prots, **isos}"
   ]
  },
  {
   "cell_type": "code",
   "execution_count": 7,
   "metadata": {
    "id": "OE_BXPEONtaw"
   },
   "outputs": [],
   "source": [
    "claudin = 'P56856'\n",
    "all_prots = get_all_prots(claudin)"
   ]
  },
  {
   "cell_type": "code",
   "execution_count": 8,
   "metadata": {
    "id": "IzBJOj0rUwzq"
   },
   "outputs": [],
   "source": [
    "def get_all_seqs(prots: dict) -> dict:\n",
    "    '''prots: a dict mapping accession numbers to UniProt API JSON\n",
    "    (returned by get_all_prots).\n",
    "    Returns: a dict mapping those accession numbers to the sequences\n",
    "    '''\n",
    "    return {k: get_sequence(v) for k, v in prots.items()}"
   ]
  },
  {
   "cell_type": "code",
   "execution_count": 9,
   "metadata": {
    "id": "l53uDIKEVpYh"
   },
   "outputs": [],
   "source": [
    "seqs = get_all_seqs(all_prots)\n",
    "seq1, seq2 = seqs.values()"
   ]
  },
  {
   "cell_type": "code",
   "execution_count": 10,
   "metadata": {
    "id": "TgIMzIE0chsG"
   },
   "outputs": [],
   "source": [
    "def to_fasta(seqs: dict) -> str:\n",
    "    '''seqs: an {accession number -> UniProt API JSON} dict returned by\n",
    "    get_all_prots.\n",
    "    Returns: The accession numbers and sequences of those proteins in FASTA\n",
    "    format.\n",
    "    '''\n",
    "    fasta = ''\n",
    "    for acc_num, seq in seqs.items():\n",
    "        seqrec = SeqRecord(Seq(seq))\n",
    "        seqrec.id = acc_num\n",
    "        fasta += seqrec.format('fasta')\n",
    "    return fasta"
   ]
  },
  {
   "cell_type": "code",
   "execution_count": 11,
   "metadata": {
    "id": "0bYht6YYd7NR"
   },
   "outputs": [],
   "source": [
    "# https://rest.uniprot.org/beta/docs/\n",
    "WEBSITE_API = \"https://rest.uniprot.org/beta\"\n",
    "def request_multi_alignment(seqs: dict) -> str:\n",
    "    '''Send a request to the European Bioinformatics Institute\n",
    "    for multiple alignment of several sequences\n",
    "    '''\n",
    "    fasta = to_fasta(seqs)\n",
    "    r = requests.post(\n",
    "        \"https://www.ebi.ac.uk/Tools/services/rest/clustalo/run\", \n",
    "        data={\n",
    "            \"email\": \"lestimpe@gmail.com\",\n",
    "            \"iterations\": 1,\n",
    "            \"outfmt\": \"clustal_num\",\n",
    "            \"order\": \"aligned\",\n",
    "            \"sequence\": fasta\n",
    "           }\n",
    "    )\n",
    "    r.raise_for_status()\n",
    "    job_id = r.text\n",
    "    job_status = 'RUNNING'\n",
    "    # ping the server every few seconds to see if the job is done\n",
    "    while job_status == 'RUNNING':\n",
    "        time.sleep(4)\n",
    "        job_status_req = requests.get(\n",
    "            f\"https://www.ebi.ac.uk/Tools/services/rest/clustalo/status/{job_id}\")\n",
    "        job_status_req.raise_for_status()\n",
    "        job_status = job_status_req.text\n",
    "    # now that the job is done, get the alignment\n",
    "    resp = requests.get(\n",
    "        f\"https://www.ebi.ac.uk/Tools/services/rest/clustalo/result/{job_id}/aln-clustal_num\")\n",
    "    resp.raise_for_status()\n",
    "    return resp.text"
   ]
  },
  {
   "cell_type": "code",
   "execution_count": 12,
   "metadata": {
    "id": "mC26XJ0Tf81c"
   },
   "outputs": [],
   "source": [
    "def align_isoforms(acc_num: str, **kwargs) -> str:\n",
    "    '''get all isoforms of the protein with accession number acc_num,\n",
    "    and return a sequence alignment.\n",
    "    Can also pass in keyword arguments to set parameters for the alignment,\n",
    "    if there are only two isoforms to align'''\n",
    "    prots = get_all_prots(acc_num)\n",
    "    seqs = get_all_seqs(prots)\n",
    "    if len(seqs) < 2:\n",
    "        print(f\"The protein with UniProt accession number {acc_num} has only one isoform\")\n",
    "        (acc1, seq1) = list(seqs.items())[0]\n",
    "        return seq1\n",
    "    return request_multi_alignment(seqs)"
   ]
  },
  {
   "cell_type": "code",
   "execution_count": 13,
   "metadata": {
    "colab": {
     "base_uri": "https://localhost:8080/"
    },
    "id": "f164z1iJjYgs",
    "outputId": "44ab7011-650a-4136-f528-10171ee4d1bf"
   },
   "outputs": [
    {
     "name": "stdout",
     "output_type": "stream",
     "text": [
      "CLUSTAL O(1.2.4) multiple sequence alignment\n",
      "\n",
      "\n",
      "P56856        MSTTTCQVVAFLLSILGLAGCIAATGMDMWSTQDLYDNPVTSVFQYEGLWRSCVRQSSGF\t60\n",
      "P56856-2      MAVTACQGLGFVVSLIGIAGIIAATCMDQWSTQDLYNNPVTAVFNYQGLWRSCVRESSGF\t60\n",
      "              *:.*:** :.*::*::*:** **** ** *******:****:**:*:********:****\n",
      "\n",
      "P56856        TECRPYFTILGLPAMLQAVRALMIVGIVLGAIGLLVSIFALKCIRIGSMEDSAKANMTLT\t120\n",
      "P56856-2      TECRGYFTLLGLPAMLQAVRALMIVGIVLGAIGLLVSIFALKCIRIGSMEDSAKANMTLT\t120\n",
      "              **** ***:***************************************************\n",
      "\n",
      "P56856        SGIMFIVSGLCAIAGVSVFANMLVTNFWMSTANMYTGMGGMVQTVQTRYTFGAALFVGWV\t180\n",
      "P56856-2      SGIMFIVSGLCAIAGVSVFANMLVTNFWMSTANMYTGMGGMVQTVQTRYTFGAALFVGWV\t180\n",
      "              ************************************************************\n",
      "\n",
      "P56856        AGGLTLIGGVMMCIACRGLAPEETNYKAVSYHASGHSVAYKPGGFKASTGFGSNTKNKKI\t240\n",
      "P56856-2      AGGLTLIGGVMMCIACRGLAPEETNYKAVSYHASGHSVAYKPGGFKASTGFGSNTKNKKI\t240\n",
      "              ************************************************************\n",
      "\n",
      "P56856        YDGGARTEDEVQSYPSKHDYV\t261\n",
      "P56856-2      YDGGARTEDEVQSYPSKHDYV\t261\n",
      "              *********************\n",
      "\n"
     ]
    }
   ],
   "source": [
    "# test aligning something with two isoforms\n",
    "alignment = align_isoforms(claudin)\n",
    "print(alignment)"
   ]
  },
  {
   "cell_type": "code",
   "execution_count": 14,
   "metadata": {
    "colab": {
     "base_uri": "https://localhost:8080/"
    },
    "id": "dGRO0z9KlSTZ",
    "outputId": "e512e884-69b1-4523-c12e-67a445a6229b"
   },
   "outputs": [
    {
     "name": "stdout",
     "output_type": "stream",
     "text": [
      "CLUSTAL O(1.2.4) multiple sequence alignment\n",
      "\n",
      "\n",
      "P54619-2      --------------------------------MKSHRCYDLIPTSSKLVVFDTSLQVKKA\t28\n",
      "P54619-1      METVISSDSSPAVENEHPQETPESNNSVYTSFMKSHRCYDLIPTSSKLVVFDTSLQVKKA\t60\n",
      "P54619-3      METVISSDSSPAVENEHPQETPESNNSVYTSFMKSHRCYDLIPTSSKLVVFDTSLQVKKA\t60\n",
      "                                              ****************************\n",
      "\n",
      "P54619-2      FFALVTNGVRAAPLWDSKKQSFV---------GMLTITDFINILHRYYKSALVQIYELEE\t79\n",
      "P54619-1      FFALVTNGVRAAPLWDSKKQSFV---------GMLTITDFINILHRYYKSALVQIYELEE\t111\n",
      "P54619-3      FFALVTNGVRAAPLWDSKKQSFVVLRALSCPLGMLTITDFINILHRYYKSALVQIYELEE\t120\n",
      "              ***********************         ****************************\n",
      "\n",
      "P54619-2      HKIETWREVYLQDSFKPLVCISPNASLFDAVSSLIRNKIHRLPVIDPESGNTLYILTHKR\t139\n",
      "P54619-1      HKIETWREVYLQDSFKPLVCISPNASLFDAVSSLIRNKIHRLPVIDPESGNTLYILTHKR\t171\n",
      "P54619-3      HKIETWREVYLQDSFKPLVCISPNASLFDAVSSLIRNKIHRLPVIDPESGNTLYILTHKR\t180\n",
      "              ************************************************************\n",
      "\n",
      "P54619-2      ILKFLKLFITEFPKPEFMSKSLEELQIGTYANIAMVRTTTPVYVALGIFVQHRVSALPVV\t199\n",
      "P54619-1      ILKFLKLFITEFPKPEFMSKSLEELQIGTYANIAMVRTTTPVYVALGIFVQHRVSALPVV\t231\n",
      "P54619-3      ILKFLKLFITEFPKPEFMSKSLEELQIGTYANIAMVRTTTPVYVALGIFVQHRVSALPVV\t240\n",
      "              ************************************************************\n",
      "\n",
      "P54619-2      DEKGRVVDIYSKFDVINLAAEKTYNNLDVSVTKALQHRSHYFEGVLKCYLHETLETIINR\t259\n",
      "P54619-1      DEKGRVVDIYSKFDVINLAAEKTYNNLDVSVTKALQHRSHYFEGVLKCYLHETLETIINR\t291\n",
      "P54619-3      DEKGRVVDIYSKFDVINLAAEKTYNNLDVSVTKALQHRSHYFEGVLKCYLHETLETIINR\t300\n",
      "              ************************************************************\n",
      "\n",
      "P54619-2      LVEAEVHRLVVVDENDVVKGIVSLSDILQALVLTGGEKKP\t299\n",
      "P54619-1      LVEAEVHRLVVVDENDVVKGIVSLSDILQALVLTGGEKKP\t331\n",
      "P54619-3      LVEAEVHRLVVVDENDVVKGIVSLSDILQALVLTGGEKKP\t340\n",
      "              ****************************************\n",
      "\n"
     ]
    }
   ],
   "source": [
    "# test aligning things with >= 3 isoforms\n",
    "ampk_gamma = 'P54619-2' # https://en.wikipedia.org/wiki/PRKAG1\n",
    "align_ampk = align_isoforms(ampk_gamma)\n",
    "print(align_ampk)"
   ]
  },
  {
   "cell_type": "code",
   "execution_count": 15,
   "metadata": {
    "colab": {
     "base_uri": "https://localhost:8080/"
    },
    "id": "3kfd8bh0mubz",
    "outputId": "7db08477-26bb-4950-a477-b1a8754731cd"
   },
   "outputs": [
    {
     "name": "stdout",
     "output_type": "stream",
     "text": [
      "The protein with UniProt accession number P12277 has only one isoform\n",
      "MPFSNSHNALKLRFPAEDEFPDLSAHNNHMAKVLTPELYAELRAKSTPSGFTLDDVIQTGVDNPGHPYIMTVGCVAGDEESYEVFKDLFDPIIEDRHGGYKPSDEHKTDLNPDNLQGGDDLDPNYVLSSRVRTGRSIRGFCLPPHCSRGERRAIEKLAVEALSSLDGDLAGRYYALKSMTEAEQQQLIDDHFLFDKPVSPLLLASGMARDWPDARGIWHNDNKTFLVWVNEEDHLRVISMQKGGNMKEVFTRFCTGLTQIETLFKSKDYEFMWNPHLGYILTCPSNLGTGLRAGVHIKLPNLGKHEKFSEVLKRLRLQKRGTGGVDTAAVGGVFDVSNADRLGFSEVELVQMVVDGVKLLIEMEQRLEQGQAIDDLMPAQK\n",
      "The protein with UniProt accession number Q92839 has only one isoform\n"
     ]
    }
   ],
   "source": [
    "# test aligning things with only one isoform\n",
    "ckb = 'P12277' # https://en.wikipedia.org/wiki/CKB_(gene)\n",
    "align_ckb = align_isoforms(ckb)\n",
    "print(align_ckb)\n",
    "has1 = 'Q92839' # https://en.wikipedia.org/wiki/HAS1\n",
    "align_has1 = align_isoforms(has1)"
   ]
  },
  {
   "cell_type": "code",
   "execution_count": 16,
   "metadata": {
    "colab": {
     "base_uri": "https://localhost:8080/"
    },
    "id": "NRLATT3OdsoX",
    "outputId": "65ce3870-9270-4025-a768-c8cf114013a2"
   },
   "outputs": [
    {
     "name": "stdout",
     "output_type": "stream",
     "text": [
      "CLUSTAL O(1.2.4) multiple sequence alignment\n",
      "\n",
      "\n",
      "A2A2Y4-4      ------------------------------------------------------------\t0\n",
      "A2A2Y4-3      ------------------------------------------------------------\t0\n",
      "A2A2Y4-5      --------------------------------------------MQLSKRETKGQFLIDH\t16\n",
      "A2A2Y4-1      MFASCHCVPRGRRTMKMIHFRSSSVKSLSQEMRCTIRLLDDSEISCHIQRETKGQFLIDH\t60\n",
      "A2A2Y4-2      MFASCHCVPRGRRTMKMIHFRSSSVKSLSQEMRCTIRLLDDSEISCHIQRETKGQFLIDH\t60\n",
      "                                                                          \n",
      "\n",
      "A2A2Y4-4      ------------------------------------------------------------\t0\n",
      "A2A2Y4-3      ------------------------------------------------------------\t0\n",
      "A2A2Y4-5      ICNYYSLLEKDYFGIRYVDPEKQRHWLEPNKSIFKQMKTHPPYTMCFRVKFYPHEPLKIK\t76\n",
      "A2A2Y4-1      ICNYYSLLEKDYFGIRYVDPEKQRHWLEPNKSIFKQMKTHPPYTMCFRVKFYPHEPLKIK\t120\n",
      "A2A2Y4-2      ICNYYSLLEKDYFGIRYVDPEKQRHWLEPNKSIFKQMKTHPPYTMCFRVKFYPHEPLKIK\t120\n",
      "                                                                          \n",
      "\n",
      "A2A2Y4-4      ------------------------------------------------------------\t0\n",
      "A2A2Y4-3      ------------------------------------------------------------\t0\n",
      "A2A2Y4-5      EELTRYLLYLQIKRDIFHGRLLCSFSDAAYLGACIVQAELGDYDPDEHPENYISEFEIFP\t136\n",
      "A2A2Y4-1      EELTRYLLYLQIKRDIFHGRLLCSFSDAAYLGACIVQAELGDYDPDEHPENYISEFEIFP\t180\n",
      "A2A2Y4-2      EELTRYLLYLQIKRDIFHGRLLCSFSDAAYLGACIVQAELGDYDPDEHPENYISEFEIFP\t180\n",
      "                                                                          \n",
      "\n",
      "A2A2Y4-4      ------------------------------------------------------------\t0\n",
      "A2A2Y4-3      --------------MVFRRGQSPPVAEFNLLLKAHTLETYGVDPHPCKDSTGTTTFLGFT\t46\n",
      "A2A2Y4-5      KQSQKLERKIVEIHKNELRGQSPPVAEFNLLLKAHTLETYGVDPHPCKDSTGTTTFLGFT\t196\n",
      "A2A2Y4-1      KQSQKLERKIVEIHKNELRGQSPPVAEFNLLLKAHTLETYGVDPHPCKDSTGTTTFLGFT\t240\n",
      "A2A2Y4-2      KQSQKLERKIVEIHKNELRGQSPPVAEFNLLLKAHTLETYGVDPHPCKDSTGTTTFLGFT\t240\n",
      "                                                                          \n",
      "\n",
      "A2A2Y4-4      ------------------------------------------------------------\t0\n",
      "A2A2Y4-3      AAGFVVFQGNKRIHLIKWPDVCKLKFEGKTFYVIGTQKEKKAMLAFHTSTPAACKHLWKC\t106\n",
      "A2A2Y4-5      AAGFVVFQGNKRIHLIKWPDVCKLKFEGKTFYVIGTQKEKKAMLAFHTSTPAACKHLWKC\t256\n",
      "A2A2Y4-1      AAGFVVFQGNKRIHLIKWPDVCKLKFEGKTFYVIGTQKEKKAMLAFHTSTPAACKHLWKC\t300\n",
      "A2A2Y4-2      AAGFVVFQGNKRIHLIKWPDVCKLKFEGKTFYVIGTQKEKKAMLAFHTSTPAACKHLWKC\t300\n",
      "                                                                          \n",
      "\n",
      "A2A2Y4-4      -------------------------MQAEETKGIGI--TSMAKCLVKIQTRRSLQLHM--\t31\n",
      "A2A2Y4-3      GVENQAFYKYAKSSQIKTVSSSKIFFKGSRFRYSGKVAKEVVEASSKIQRE-PPEVHRAN\t165\n",
      "A2A2Y4-5      GVENQAFYKYAKSSQIKTVSSSKIFFKGSRFRYSGKVAKEVVEASSKIQRE-PPEVHRAN\t315\n",
      "A2A2Y4-1      GVENQAFYKYAKSSQIKTVSSSKIFFKGSRFRYSGKVAKEVVEASSKIQRE-PPEVHRAN\t359\n",
      "A2A2Y4-2      GVENQAFYKYAKSSQIKTVSSSKIFFKGSRFRYSGKVAKEVVEASSKIQRE-PPEVHRAN\t359\n",
      "                                       ::... :  *   ..:.:.  *** .   ::*   \n",
      "\n",
      "A2A2Y4-4      ------VNHCNSNVFVRLLR---------LGSKVTARNTGVPLPKEENISAPLISSSPVK\t76\n",
      "A2A2Y4-3      ITQSRSSHSLNKQLIINMEPLQPLLPSPSEQEEELPLGEGVPLPKEENISAPLISSSPVK\t225\n",
      "A2A2Y4-5      ITQSRSSHSLNKQLIINMEPLQPLLPSPSEQEEELPLGEGVPLPKEENISAPLISSSPVK\t375\n",
      "A2A2Y4-1      ITQSRSSHSLNKQLIINMEPLQPLLPSPSEQEEELPLGEGVPLPKEENISAPLISSSPVK\t419\n",
      "A2A2Y4-2      ITQSRSSHSLNKQLIINMEPLQPLLPSPSEQEEELPLGEGVPLPKEENISAPLISSSPVK\t419\n",
      "                     :  *.::::.:             .:    . *********************\n",
      "\n",
      "A2A2Y4-4      AAREYEDPPSEEEDKIKEEPLTISELVYNPSASLLPTPVDDDEIDMLFDCPSRLELERED\t136\n",
      "A2A2Y4-3      AAREYEDPPSEEEDKIKEEPLTISELVYNPSASLLPTPVDDDEIDMLFDCPSRLELERED\t285\n",
      "A2A2Y4-5      AAREYEDPPSEEEDKIKEEPLTISELVYNPSASLLPTPVDDDEIDMLFDCPSRLELERED\t435\n",
      "A2A2Y4-1      AAREYEDPPSEEEDKIKEEPLTISELVYNPSASLLPTPVDDDEIDMLFDCPSRLELERED\t479\n",
      "A2A2Y4-2      AAREYEDPPSEEEDKIKEEPLTISELVYNPSASLLPTPVDDDEIDMLFDCPSRLELERED\t479\n",
      "              ************************************************************\n",
      "\n",
      "A2A2Y4-4      TDSFEDLEADENAFLIAEEEELKEARRALSWSYDILTGHIRVNPLVKSFSRLLVVGLGLL\t196\n",
      "A2A2Y4-3      TDSFEDLEADENAFLIAEEEELKEARRALSWSYDILTGHIRVNPLVKSFSRLLVVGLGLL\t345\n",
      "A2A2Y4-5      TDSFEDLEADENAFLIAEEEELKEARRALSWSYDILTGHIRVNPLVKSFSRLLVVGLGLL\t495\n",
      "A2A2Y4-1      TDSFEDLEADENAFLIAEEEELKEARRALSWSYDILTGHIRVNPLVKSFSRLLVVGLGLL\t539\n",
      "A2A2Y4-2      TDSFEDLEADENAFLIAEEEELKEARRALSWSYDILTGHIRVNPLVKSFSRLLVVGLGLL\t539\n",
      "              ************************************************************\n",
      "\n",
      "A2A2Y4-4      LFVFPLLLLLLESVSMQ-----------------------------------------\t213\n",
      "A2A2Y4-3      LFVFPLLLLLLESVSMQ-----------------------------------------\t362\n",
      "A2A2Y4-5      LFVFPLLLLLLESGIDLSFLCEIRQTPEFEQFHYEYYCPLKEWVAGKVHLILYMLGCS\t553\n",
      "A2A2Y4-1      LFVFPLLLLLLESGIDLSFLCEIRQTPEFEQFHYEYYCPLKEWVAGKVHLILYMLGCS\t597\n",
      "A2A2Y4-2      LFVFPLLLLLLESVSMQ-----------------------------------------\t556\n",
      "              *************                                             \n",
      "\n"
     ]
    }
   ],
   "source": [
    "frmd3 = 'A2A2Y4-4' # example with 5 isoforms\n",
    "align_frmd3 = align_isoforms(frmd3)\n",
    "print(align_frmd3)"
   ]
  }
 ],
 "metadata": {
  "colab": {
   "collapsed_sections": [],
   "provenance": []
  },
  "kernelspec": {
   "display_name": "Python 3 (ipykernel)",
   "language": "python",
   "name": "python3"
  },
  "language_info": {
   "codemirror_mode": {
    "name": "ipython",
    "version": 3
   },
   "file_extension": ".py",
   "mimetype": "text/x-python",
   "name": "python",
   "nbconvert_exporter": "python",
   "pygments_lexer": "ipython3",
   "version": "3.10.2"
  }
 },
 "nbformat": 4,
 "nbformat_minor": 1
}
